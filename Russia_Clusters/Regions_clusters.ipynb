{
 "cells": [
  {
   "cell_type": "markdown",
   "id": "e165c494",
   "metadata": {},
   "source": [
    "## Задача\n",
    "\n",
    "1.      По наиболее актуальным данным Росстата о ключевых показателях мониторинга развития регионов сегментировать территории и описать полученные кластеры бизнес-языком. \n",
    "2.      Предполагая, что губернаторы регионов не менялись на протяжении всех периодов в выборке, составить список территорий для увольнения губернаторов с коротким обоснованием принципов формирования. \n",
    "3.      На основе задачи 2 придумать автоматический алгоритм увольнения губернаторов и описать критерии и правила увольнений\n",
    " \n",
    "Для кластеризации можно применять любые инструменты Excel, Python, R и т.д. инструменты и методологию лучше выбрать по соотношению Трудозатраты/эффект.\n",
    "На выходе мы ждем Эксель/код с описанием в ворде. \n",
    " \n",
    "Dataset\n",
    "<https://gks.ru/free_doc/new_site/rosstat/pok-monitor/pok-monitor.html>"
   ]
  },
  {
   "cell_type": "markdown",
   "id": "8a4029ad",
   "metadata": {},
   "source": [
    "## Загрузка библиотек и датасетов, первичная предобработка"
   ]
  },
  {
   "cell_type": "markdown",
   "id": "3298360e",
   "metadata": {},
   "source": [
    "### Библиотеки"
   ]
  },
  {
   "cell_type": "code",
   "execution_count": 1,
   "id": "36d2fc8f",
   "metadata": {},
   "outputs": [],
   "source": [
    "#импортируем библиотеки\n",
    "\n",
    "import warnings\n",
    "warnings.filterwarnings('ignore')\n",
    "\n",
    "import numpy as np\n",
    "import pandas as pd\n",
    "from matplotlib import pyplot as plt\n",
    "import seaborn as sns\n",
    "from IPython.display import display\n",
    "from functools import reduce\n",
    "\n",
    "from sklearn.preprocessing import StandardScaler\n",
    "from sklearn.model_selection import train_test_split\n",
    "\n",
    "from sklearn.metrics import confusion_matrix, accuracy_score, precision_score, recall_score, silhouette_score\n",
    "from scipy.cluster.hierarchy import dendrogram, linkage\n",
    "from sklearn.cluster import KMeans\n",
    "\n",
    "#from plotly import graph_objects as go"
   ]
  },
  {
   "cell_type": "markdown",
   "id": "ef3c092d",
   "metadata": {},
   "source": [
    "### Реальная  среднемесячная начисленная заработная плата работников организаций по субъектам Российской Федерации"
   ]
  },
  {
   "cell_type": "code",
   "execution_count": 2,
   "id": "e8816e28",
   "metadata": {},
   "outputs": [
    {
     "name": "stdout",
     "output_type": "stream",
     "text": [
      "<class 'pandas.core.frame.DataFrame'>\n",
      "RangeIndex: 99 entries, 0 to 98\n",
      "Data columns (total 2 columns):\n",
      " #   Column      Non-Null Count  Dtype \n",
      "---  ------      --------------  ----- \n",
      " 0   Unnamed: 0  98 non-null     object\n",
      " 1   Unnamed: 1  97 non-null     object\n",
      "dtypes: object(2)\n",
      "memory usage: 1.7+ KB\n"
     ]
    },
    {
     "data": {
      "text/html": [
       "<div>\n",
       "<style scoped>\n",
       "    .dataframe tbody tr th:only-of-type {\n",
       "        vertical-align: middle;\n",
       "    }\n",
       "\n",
       "    .dataframe tbody tr th {\n",
       "        vertical-align: top;\n",
       "    }\n",
       "\n",
       "    .dataframe thead th {\n",
       "        text-align: right;\n",
       "    }\n",
       "</style>\n",
       "<table border=\"1\" class=\"dataframe\">\n",
       "  <thead>\n",
       "    <tr style=\"text-align: right;\">\n",
       "      <th></th>\n",
       "      <th>Unnamed: 0</th>\n",
       "      <th>Unnamed: 1</th>\n",
       "    </tr>\n",
       "  </thead>\n",
       "  <tbody>\n",
       "    <tr>\n",
       "      <th>0</th>\n",
       "      <td>Реальная  среднемесячная начисленная заработна...</td>\n",
       "      <td>NaN</td>\n",
       "    </tr>\n",
       "    <tr>\n",
       "      <th>1</th>\n",
       "      <td>NaN</td>\n",
       "      <td>NaN</td>\n",
       "    </tr>\n",
       "    <tr>\n",
       "      <th>2</th>\n",
       "      <td>Наименование</td>\n",
       "      <td>2020 г. в % к 2019 г.</td>\n",
       "    </tr>\n",
       "    <tr>\n",
       "      <th>3</th>\n",
       "      <td>Российская Федерация</td>\n",
       "      <td>102.5</td>\n",
       "    </tr>\n",
       "    <tr>\n",
       "      <th>4</th>\n",
       "      <td>Центральный федеральный округ</td>\n",
       "      <td>103.4</td>\n",
       "    </tr>\n",
       "    <tr>\n",
       "      <th>5</th>\n",
       "      <td>Белгородская область</td>\n",
       "      <td>104.5</td>\n",
       "    </tr>\n",
       "    <tr>\n",
       "      <th>6</th>\n",
       "      <td>Брянская область</td>\n",
       "      <td>102.2</td>\n",
       "    </tr>\n",
       "    <tr>\n",
       "      <th>7</th>\n",
       "      <td>Владимирская область</td>\n",
       "      <td>102.4</td>\n",
       "    </tr>\n",
       "  </tbody>\n",
       "</table>\n",
       "</div>"
      ],
      "text/plain": [
       "                                          Unnamed: 0             Unnamed: 1\n",
       "0  Реальная  среднемесячная начисленная заработна...                    NaN\n",
       "1                                                NaN                    NaN\n",
       "2                                       Наименование  2020 г. в % к 2019 г.\n",
       "3                               Российская Федерация                  102.5\n",
       "4                      Центральный федеральный округ                  103.4\n",
       "5                               Белгородская область                  104.5\n",
       "6                                   Брянская область                  102.2\n",
       "7                               Владимирская область                  102.4"
      ]
     },
     "metadata": {},
     "output_type": "display_data"
    }
   ],
   "source": [
    "avg_salary = pd.read_excel('C:\\\\anaconda3\\\\Test\\\\avg_salary.xlsx', sheet_name='list1')\n",
    "avg_salary.info()\n",
    "display(avg_salary.head(8))"
   ]
  },
  {
   "cell_type": "code",
   "execution_count": 3,
   "id": "3d25eafe",
   "metadata": {},
   "outputs": [],
   "source": [
    "#обновим названия колонок\n",
    "\n",
    "avg_salary.columns = ['region','salary_percent_yty']"
   ]
  },
  {
   "cell_type": "code",
   "execution_count": 4,
   "id": "82e30ebe",
   "metadata": {},
   "outputs": [],
   "source": [
    "#дропнем артефакты\n",
    "\n",
    "avg_salary = avg_salary.drop(avg_salary.index[:3])"
   ]
  },
  {
   "cell_type": "code",
   "execution_count": 5,
   "id": "b8501ebc",
   "metadata": {},
   "outputs": [],
   "source": [
    "#изменим тип данных \n",
    "\n",
    "avg_salary['salary_percent_yty'] = avg_salary['salary_percent_yty'].astype('float')"
   ]
  },
  {
   "cell_type": "code",
   "execution_count": 6,
   "id": "a4879f17",
   "metadata": {},
   "outputs": [
    {
     "data": {
      "text/html": [
       "<div>\n",
       "<style scoped>\n",
       "    .dataframe tbody tr th:only-of-type {\n",
       "        vertical-align: middle;\n",
       "    }\n",
       "\n",
       "    .dataframe tbody tr th {\n",
       "        vertical-align: top;\n",
       "    }\n",
       "\n",
       "    .dataframe thead th {\n",
       "        text-align: right;\n",
       "    }\n",
       "</style>\n",
       "<table border=\"1\" class=\"dataframe\">\n",
       "  <thead>\n",
       "    <tr style=\"text-align: right;\">\n",
       "      <th></th>\n",
       "      <th>region</th>\n",
       "      <th>salary_percent_yty</th>\n",
       "    </tr>\n",
       "  </thead>\n",
       "  <tbody>\n",
       "    <tr>\n",
       "      <th>3</th>\n",
       "      <td>Российская Федерация</td>\n",
       "      <td>102.5</td>\n",
       "    </tr>\n",
       "    <tr>\n",
       "      <th>4</th>\n",
       "      <td>Центральный федеральный округ</td>\n",
       "      <td>103.4</td>\n",
       "    </tr>\n",
       "    <tr>\n",
       "      <th>5</th>\n",
       "      <td>Белгородская область</td>\n",
       "      <td>104.5</td>\n",
       "    </tr>\n",
       "    <tr>\n",
       "      <th>6</th>\n",
       "      <td>Брянская область</td>\n",
       "      <td>102.2</td>\n",
       "    </tr>\n",
       "    <tr>\n",
       "      <th>7</th>\n",
       "      <td>Владимирская область</td>\n",
       "      <td>102.4</td>\n",
       "    </tr>\n",
       "  </tbody>\n",
       "</table>\n",
       "</div>"
      ],
      "text/plain": [
       "                          region  salary_percent_yty\n",
       "3           Российская Федерация               102.5\n",
       "4  Центральный федеральный округ               103.4\n",
       "5           Белгородская область               104.5\n",
       "6               Брянская область               102.2\n",
       "7           Владимирская область               102.4"
      ]
     },
     "execution_count": 6,
     "metadata": {},
     "output_type": "execute_result"
    }
   ],
   "source": [
    "#селф-чекинг\n",
    "\n",
    "avg_salary.head()"
   ]
  },
  {
   "cell_type": "markdown",
   "id": "19e9a711",
   "metadata": {},
   "source": [
    "### Объем жилищного строительства в 2020 году "
   ]
  },
  {
   "cell_type": "code",
   "execution_count": 7,
   "id": "34fe5919",
   "metadata": {},
   "outputs": [
    {
     "name": "stdout",
     "output_type": "stream",
     "text": [
      "<class 'pandas.core.frame.DataFrame'>\n",
      "RangeIndex: 101 entries, 0 to 100\n",
      "Data columns (total 4 columns):\n",
      " #   Column                                      Non-Null Count  Dtype \n",
      "---  ------                                      --------------  ----- \n",
      " 0   Объем жилищного строительства в 2020 году   97 non-null     object\n",
      " 1   Unnamed: 1                                  97 non-null     object\n",
      " 2   Unnamed: 2                                  98 non-null     object\n",
      " 3   Unnamed: 3                                  97 non-null     object\n",
      "dtypes: object(4)\n",
      "memory usage: 3.3+ KB\n"
     ]
    },
    {
     "data": {
      "text/html": [
       "<div>\n",
       "<style scoped>\n",
       "    .dataframe tbody tr th:only-of-type {\n",
       "        vertical-align: middle;\n",
       "    }\n",
       "\n",
       "    .dataframe tbody tr th {\n",
       "        vertical-align: top;\n",
       "    }\n",
       "\n",
       "    .dataframe thead th {\n",
       "        text-align: right;\n",
       "    }\n",
       "</style>\n",
       "<table border=\"1\" class=\"dataframe\">\n",
       "  <thead>\n",
       "    <tr style=\"text-align: right;\">\n",
       "      <th></th>\n",
       "      <th>Объем жилищного строительства в 2020 году</th>\n",
       "      <th>Unnamed: 1</th>\n",
       "      <th>Unnamed: 2</th>\n",
       "      <th>Unnamed: 3</th>\n",
       "    </tr>\n",
       "  </thead>\n",
       "  <tbody>\n",
       "    <tr>\n",
       "      <th>0</th>\n",
       "      <td>тысяч квадратных метров общей площади жилых по...</td>\n",
       "      <td>NaN</td>\n",
       "      <td>NaN</td>\n",
       "      <td>NaN</td>\n",
       "    </tr>\n",
       "    <tr>\n",
       "      <th>1</th>\n",
       "      <td>NaN</td>\n",
       "      <td>Объем жилищного строительства, всего, млн</td>\n",
       "      <td>в том числе :</td>\n",
       "      <td>NaN</td>\n",
       "    </tr>\n",
       "    <tr>\n",
       "      <th>2</th>\n",
       "      <td>NaN</td>\n",
       "      <td>NaN</td>\n",
       "      <td>ввод жилья                                в МКД</td>\n",
       "      <td>ввод жилья, построенного населением</td>\n",
       "    </tr>\n",
       "    <tr>\n",
       "      <th>3</th>\n",
       "      <td>NaN</td>\n",
       "      <td>NaN</td>\n",
       "      <td>NaN</td>\n",
       "      <td>NaN</td>\n",
       "    </tr>\n",
       "    <tr>\n",
       "      <th>4</th>\n",
       "      <td>NaN</td>\n",
       "      <td>NaN</td>\n",
       "      <td>NaN</td>\n",
       "      <td>NaN</td>\n",
       "    </tr>\n",
       "    <tr>\n",
       "      <th>5</th>\n",
       "      <td>Российская Федерация</td>\n",
       "      <td>82.1845</td>\n",
       "      <td>42.3827</td>\n",
       "      <td>39.8018</td>\n",
       "    </tr>\n",
       "    <tr>\n",
       "      <th>6</th>\n",
       "      <td>Центральный федеральный округ</td>\n",
       "      <td>25.5333</td>\n",
       "      <td>13.4799</td>\n",
       "      <td>12.0534</td>\n",
       "    </tr>\n",
       "    <tr>\n",
       "      <th>7</th>\n",
       "      <td>Белгородская область</td>\n",
       "      <td>1.1486</td>\n",
       "      <td>0.2136</td>\n",
       "      <td>0.935</td>\n",
       "    </tr>\n",
       "  </tbody>\n",
       "</table>\n",
       "</div>"
      ],
      "text/plain": [
       "          Объем жилищного строительства в 2020 году   \\\n",
       "0  тысяч квадратных метров общей площади жилых по...   \n",
       "1                                                NaN   \n",
       "2                                                NaN   \n",
       "3                                                NaN   \n",
       "4                                                NaN   \n",
       "5                               Российская Федерация   \n",
       "6                      Центральный федеральный округ   \n",
       "7                               Белгородская область   \n",
       "\n",
       "                                  Unnamed: 1  \\\n",
       "0                                        NaN   \n",
       "1  Объем жилищного строительства, всего, млн   \n",
       "2                                        NaN   \n",
       "3                                        NaN   \n",
       "4                                        NaN   \n",
       "5                                    82.1845   \n",
       "6                                    25.5333   \n",
       "7                                     1.1486   \n",
       "\n",
       "                                        Unnamed: 2  \\\n",
       "0                                              NaN   \n",
       "1                                    в том числе :   \n",
       "2  ввод жилья                                в МКД   \n",
       "3                                              NaN   \n",
       "4                                              NaN   \n",
       "5                                          42.3827   \n",
       "6                                          13.4799   \n",
       "7                                           0.2136   \n",
       "\n",
       "                            Unnamed: 3  \n",
       "0                                  NaN  \n",
       "1                                  NaN  \n",
       "2  ввод жилья, построенного населением  \n",
       "3                                  NaN  \n",
       "4                                  NaN  \n",
       "5                              39.8018  \n",
       "6                              12.0534  \n",
       "7                                0.935  "
      ]
     },
     "metadata": {},
     "output_type": "display_data"
    }
   ],
   "source": [
    "building_volume = pd.read_excel('C:\\\\anaconda3\\\\Test\\\\building_volume.xls', sheet_name='list1')\n",
    "building_volume.info()\n",
    "display(building_volume.head(8))"
   ]
  },
  {
   "cell_type": "code",
   "execution_count": 8,
   "id": "da043e83",
   "metadata": {},
   "outputs": [],
   "source": [
    "#обновим названия колонок\n",
    "\n",
    "building_volume.columns = ['region','total', 'building_vol_mkd', 'building_vol_cit']"
   ]
  },
  {
   "cell_type": "code",
   "execution_count": 9,
   "id": "f716637e",
   "metadata": {},
   "outputs": [],
   "source": [
    "#столбец с суммой не требуется\n",
    "\n",
    "building_volume = building_volume.drop(columns = ['total'])"
   ]
  },
  {
   "cell_type": "code",
   "execution_count": 10,
   "id": "61656c76",
   "metadata": {},
   "outputs": [],
   "source": [
    "#дропнем артефакты\n",
    "\n",
    "building_volume = building_volume.drop(building_volume.index[:5])"
   ]
  },
  {
   "cell_type": "code",
   "execution_count": 11,
   "id": "57120d02",
   "metadata": {},
   "outputs": [
    {
     "data": {
      "text/html": [
       "<div>\n",
       "<style scoped>\n",
       "    .dataframe tbody tr th:only-of-type {\n",
       "        vertical-align: middle;\n",
       "    }\n",
       "\n",
       "    .dataframe tbody tr th {\n",
       "        vertical-align: top;\n",
       "    }\n",
       "\n",
       "    .dataframe thead th {\n",
       "        text-align: right;\n",
       "    }\n",
       "</style>\n",
       "<table border=\"1\" class=\"dataframe\">\n",
       "  <thead>\n",
       "    <tr style=\"text-align: right;\">\n",
       "      <th></th>\n",
       "      <th>region</th>\n",
       "      <th>building_vol_mkd</th>\n",
       "      <th>building_vol_cit</th>\n",
       "    </tr>\n",
       "  </thead>\n",
       "  <tbody>\n",
       "    <tr>\n",
       "      <th>5</th>\n",
       "      <td>Российская Федерация</td>\n",
       "      <td>42.3827</td>\n",
       "      <td>39.8018</td>\n",
       "    </tr>\n",
       "    <tr>\n",
       "      <th>6</th>\n",
       "      <td>Центральный федеральный округ</td>\n",
       "      <td>13.4799</td>\n",
       "      <td>12.0534</td>\n",
       "    </tr>\n",
       "    <tr>\n",
       "      <th>7</th>\n",
       "      <td>Белгородская область</td>\n",
       "      <td>0.2136</td>\n",
       "      <td>0.935</td>\n",
       "    </tr>\n",
       "    <tr>\n",
       "      <th>8</th>\n",
       "      <td>Брянская область</td>\n",
       "      <td>0.2515</td>\n",
       "      <td>0.1752</td>\n",
       "    </tr>\n",
       "    <tr>\n",
       "      <th>9</th>\n",
       "      <td>Владимирская область</td>\n",
       "      <td>0.2454</td>\n",
       "      <td>0.4809</td>\n",
       "    </tr>\n",
       "  </tbody>\n",
       "</table>\n",
       "</div>"
      ],
      "text/plain": [
       "                          region building_vol_mkd building_vol_cit\n",
       "5           Российская Федерация          42.3827          39.8018\n",
       "6  Центральный федеральный округ          13.4799          12.0534\n",
       "7           Белгородская область           0.2136            0.935\n",
       "8               Брянская область           0.2515           0.1752\n",
       "9           Владимирская область           0.2454           0.4809"
      ]
     },
     "execution_count": 11,
     "metadata": {},
     "output_type": "execute_result"
    }
   ],
   "source": [
    "#селф-чекинг\n",
    "\n",
    "building_volume.head()"
   ]
  },
  {
   "cell_type": "markdown",
   "id": "7a91db38",
   "metadata": {},
   "source": [
    "### Предварительная оценка ожидаемой продолжительности жизни при рождении по субъектам Российской Федерации за 2020 год"
   ]
  },
  {
   "cell_type": "code",
   "execution_count": 12,
   "id": "d0428ecf",
   "metadata": {},
   "outputs": [
    {
     "name": "stdout",
     "output_type": "stream",
     "text": [
      "<class 'pandas.core.frame.DataFrame'>\n",
      "RangeIndex: 98 entries, 0 to 97\n",
      "Data columns (total 2 columns):\n",
      " #   Column                                                                                                                Non-Null Count  Dtype \n",
      "---  ------                                                                                                                --------------  ----- \n",
      " 0   Предварительная оценка ожидаемой продолжительности жизни при рождении \n",
      "по субъектам Российской Федерации за 2020 год  96 non-null     object\n",
      " 1   Unnamed: 1                                                                                                            97 non-null     object\n",
      "dtypes: object(2)\n",
      "memory usage: 1.7+ KB\n"
     ]
    },
    {
     "data": {
      "text/html": [
       "<div>\n",
       "<style scoped>\n",
       "    .dataframe tbody tr th:only-of-type {\n",
       "        vertical-align: middle;\n",
       "    }\n",
       "\n",
       "    .dataframe tbody tr th {\n",
       "        vertical-align: top;\n",
       "    }\n",
       "\n",
       "    .dataframe thead th {\n",
       "        text-align: right;\n",
       "    }\n",
       "</style>\n",
       "<table border=\"1\" class=\"dataframe\">\n",
       "  <thead>\n",
       "    <tr style=\"text-align: right;\">\n",
       "      <th></th>\n",
       "      <th>Предварительная оценка ожидаемой продолжительности жизни при рождении \\nпо субъектам Российской Федерации за 2020 год</th>\n",
       "      <th>Unnamed: 1</th>\n",
       "    </tr>\n",
       "  </thead>\n",
       "  <tbody>\n",
       "    <tr>\n",
       "      <th>0</th>\n",
       "      <td>NaN</td>\n",
       "      <td>NaN</td>\n",
       "    </tr>\n",
       "    <tr>\n",
       "      <th>1</th>\n",
       "      <td>NaN</td>\n",
       "      <td>Число\\nлет</td>\n",
       "    </tr>\n",
       "    <tr>\n",
       "      <th>2</th>\n",
       "      <td>Российская Федерация</td>\n",
       "      <td>71.5</td>\n",
       "    </tr>\n",
       "    <tr>\n",
       "      <th>3</th>\n",
       "      <td>Центральный федеральный округ</td>\n",
       "      <td>72.6</td>\n",
       "    </tr>\n",
       "    <tr>\n",
       "      <th>4</th>\n",
       "      <td>Белгородская область</td>\n",
       "      <td>72.4</td>\n",
       "    </tr>\n",
       "    <tr>\n",
       "      <th>5</th>\n",
       "      <td>Брянская область</td>\n",
       "      <td>70.6</td>\n",
       "    </tr>\n",
       "    <tr>\n",
       "      <th>6</th>\n",
       "      <td>Владимирская область</td>\n",
       "      <td>70</td>\n",
       "    </tr>\n",
       "    <tr>\n",
       "      <th>7</th>\n",
       "      <td>Воронежская область</td>\n",
       "      <td>71.9</td>\n",
       "    </tr>\n",
       "  </tbody>\n",
       "</table>\n",
       "</div>"
      ],
      "text/plain": [
       "  Предварительная оценка ожидаемой продолжительности жизни при рождении \\nпо субъектам Российской Федерации за 2020 год  \\\n",
       "0                                                NaN                                                                      \n",
       "1                                                NaN                                                                      \n",
       "2                               Российская Федерация                                                                      \n",
       "3                      Центральный федеральный округ                                                                      \n",
       "4                               Белгородская область                                                                      \n",
       "5                                   Брянская область                                                                      \n",
       "6                               Владимирская область                                                                      \n",
       "7                                Воронежская область                                                                      \n",
       "\n",
       "   Unnamed: 1  \n",
       "0         NaN  \n",
       "1  Число\\nлет  \n",
       "2        71.5  \n",
       "3        72.6  \n",
       "4        72.4  \n",
       "5        70.6  \n",
       "6          70  \n",
       "7        71.9  "
      ]
     },
     "metadata": {},
     "output_type": "display_data"
    }
   ],
   "source": [
    "lifetime_exp = pd.read_excel('C:\\\\anaconda3\\\\Test\\\\lifetime_exp.xlsx', sheet_name='list1')\n",
    "lifetime_exp.info()\n",
    "display(lifetime_exp.head(8))"
   ]
  },
  {
   "cell_type": "code",
   "execution_count": 13,
   "id": "d9603a48",
   "metadata": {},
   "outputs": [],
   "source": [
    "#обновим названия колонок\n",
    "\n",
    "lifetime_exp.columns = ['region','lifetime_exp']"
   ]
  },
  {
   "cell_type": "code",
   "execution_count": 14,
   "id": "6602ba73",
   "metadata": {},
   "outputs": [],
   "source": [
    "#дропнем артефакты\n",
    "\n",
    "lifetime_exp = lifetime_exp.drop(lifetime_exp.index[:2])"
   ]
  },
  {
   "cell_type": "code",
   "execution_count": 15,
   "id": "a63c3f07",
   "metadata": {},
   "outputs": [],
   "source": [
    "#изменим тип данных \n",
    "\n",
    "lifetime_exp['lifetime_exp'] = lifetime_exp['lifetime_exp'].astype('float')"
   ]
  },
  {
   "cell_type": "code",
   "execution_count": 16,
   "id": "fe5374f8",
   "metadata": {},
   "outputs": [
    {
     "data": {
      "text/html": [
       "<div>\n",
       "<style scoped>\n",
       "    .dataframe tbody tr th:only-of-type {\n",
       "        vertical-align: middle;\n",
       "    }\n",
       "\n",
       "    .dataframe tbody tr th {\n",
       "        vertical-align: top;\n",
       "    }\n",
       "\n",
       "    .dataframe thead th {\n",
       "        text-align: right;\n",
       "    }\n",
       "</style>\n",
       "<table border=\"1\" class=\"dataframe\">\n",
       "  <thead>\n",
       "    <tr style=\"text-align: right;\">\n",
       "      <th></th>\n",
       "      <th>region</th>\n",
       "      <th>lifetime_exp</th>\n",
       "    </tr>\n",
       "  </thead>\n",
       "  <tbody>\n",
       "    <tr>\n",
       "      <th>2</th>\n",
       "      <td>Российская Федерация</td>\n",
       "      <td>71.5</td>\n",
       "    </tr>\n",
       "    <tr>\n",
       "      <th>3</th>\n",
       "      <td>Центральный федеральный округ</td>\n",
       "      <td>72.6</td>\n",
       "    </tr>\n",
       "    <tr>\n",
       "      <th>4</th>\n",
       "      <td>Белгородская область</td>\n",
       "      <td>72.4</td>\n",
       "    </tr>\n",
       "    <tr>\n",
       "      <th>5</th>\n",
       "      <td>Брянская область</td>\n",
       "      <td>70.6</td>\n",
       "    </tr>\n",
       "    <tr>\n",
       "      <th>6</th>\n",
       "      <td>Владимирская область</td>\n",
       "      <td>70.0</td>\n",
       "    </tr>\n",
       "  </tbody>\n",
       "</table>\n",
       "</div>"
      ],
      "text/plain": [
       "                          region  lifetime_exp\n",
       "2           Российская Федерация          71.5\n",
       "3  Центральный федеральный округ          72.6\n",
       "4           Белгородская область          72.4\n",
       "5               Брянская область          70.6\n",
       "6           Владимирская область          70.0"
      ]
     },
     "execution_count": 16,
     "metadata": {},
     "output_type": "execute_result"
    }
   ],
   "source": [
    "#селф-чекинг\n",
    "\n",
    "lifetime_exp.head()"
   ]
  },
  {
   "cell_type": "markdown",
   "id": "0391a09d",
   "metadata": {},
   "source": [
    "### Оценка численности постоянного населения на 1 января 2021 года"
   ]
  },
  {
   "cell_type": "code",
   "execution_count": 17,
   "id": "3ef4e099",
   "metadata": {},
   "outputs": [
    {
     "name": "stdout",
     "output_type": "stream",
     "text": [
      "<class 'pandas.core.frame.DataFrame'>\n",
      "RangeIndex: 100 entries, 0 to 99\n",
      "Data columns (total 2 columns):\n",
      " #   Column      Non-Null Count  Dtype \n",
      "---  ------      --------------  ----- \n",
      " 0   Unnamed: 0  98 non-null     object\n",
      " 1   Unnamed: 1  97 non-null     object\n",
      "dtypes: object(2)\n",
      "memory usage: 1.7+ KB\n"
     ]
    },
    {
     "data": {
      "text/html": [
       "<div>\n",
       "<style scoped>\n",
       "    .dataframe tbody tr th:only-of-type {\n",
       "        vertical-align: middle;\n",
       "    }\n",
       "\n",
       "    .dataframe tbody tr th {\n",
       "        vertical-align: top;\n",
       "    }\n",
       "\n",
       "    .dataframe thead th {\n",
       "        text-align: right;\n",
       "    }\n",
       "</style>\n",
       "<table border=\"1\" class=\"dataframe\">\n",
       "  <thead>\n",
       "    <tr style=\"text-align: right;\">\n",
       "      <th></th>\n",
       "      <th>Unnamed: 0</th>\n",
       "      <th>Unnamed: 1</th>\n",
       "    </tr>\n",
       "  </thead>\n",
       "  <tbody>\n",
       "    <tr>\n",
       "      <th>0</th>\n",
       "      <td>ОЦЕНКА ЧИСЛЕННОСТИ ПОСТОЯННОГО НАСЕЛЕНИЯ на 1 ...</td>\n",
       "      <td>NaN</td>\n",
       "    </tr>\n",
       "    <tr>\n",
       "      <th>1</th>\n",
       "      <td>(человек)</td>\n",
       "      <td>NaN</td>\n",
       "    </tr>\n",
       "    <tr>\n",
       "      <th>2</th>\n",
       "      <td>NaN</td>\n",
       "      <td>NaN</td>\n",
       "    </tr>\n",
       "    <tr>\n",
       "      <th>3</th>\n",
       "      <td>NaN</td>\n",
       "      <td>Все население</td>\n",
       "    </tr>\n",
       "    <tr>\n",
       "      <th>4</th>\n",
       "      <td>Российская Федеpация</td>\n",
       "      <td>146171015</td>\n",
       "    </tr>\n",
       "    <tr>\n",
       "      <th>5</th>\n",
       "      <td>Центральный федеральный округ</td>\n",
       "      <td>39250960</td>\n",
       "    </tr>\n",
       "    <tr>\n",
       "      <th>6</th>\n",
       "      <td>Белгородская область</td>\n",
       "      <td>1541259</td>\n",
       "    </tr>\n",
       "    <tr>\n",
       "      <th>7</th>\n",
       "      <td>Брянская область</td>\n",
       "      <td>1182682</td>\n",
       "    </tr>\n",
       "  </tbody>\n",
       "</table>\n",
       "</div>"
      ],
      "text/plain": [
       "                                          Unnamed: 0     Unnamed: 1\n",
       "0  ОЦЕНКА ЧИСЛЕННОСТИ ПОСТОЯННОГО НАСЕЛЕНИЯ на 1 ...            NaN\n",
       "1                                          (человек)            NaN\n",
       "2                                                NaN            NaN\n",
       "3                                                NaN  Все население\n",
       "4                               Российская Федеpация      146171015\n",
       "5                      Центральный федеральный округ       39250960\n",
       "6                               Белгородская область        1541259\n",
       "7                                   Брянская область        1182682"
      ]
     },
     "metadata": {},
     "output_type": "display_data"
    }
   ],
   "source": [
    "pop_count = pd.read_excel('C:\\\\anaconda3\\\\Test\\\\pop_count.xls', sheet_name='list1')\n",
    "pop_count.info()\n",
    "display(pop_count.head(8))"
   ]
  },
  {
   "cell_type": "code",
   "execution_count": 18,
   "id": "fa4170ea",
   "metadata": {},
   "outputs": [],
   "source": [
    "#обновим названия колонок\n",
    "\n",
    "pop_count.columns = ['region','pop_count']"
   ]
  },
  {
   "cell_type": "code",
   "execution_count": 19,
   "id": "cb678982",
   "metadata": {},
   "outputs": [],
   "source": [
    "#дропнем артефакты\n",
    "\n",
    "pop_count = pop_count.drop(pop_count.index[:4])"
   ]
  },
  {
   "cell_type": "code",
   "execution_count": 20,
   "id": "ae4be8f1",
   "metadata": {},
   "outputs": [],
   "source": [
    "#изменим тип данных \n",
    "\n",
    "pop_count['pop_count'] = pop_count['pop_count'].astype('int')"
   ]
  },
  {
   "cell_type": "code",
   "execution_count": 21,
   "id": "90a69cd6",
   "metadata": {},
   "outputs": [
    {
     "data": {
      "text/html": [
       "<div>\n",
       "<style scoped>\n",
       "    .dataframe tbody tr th:only-of-type {\n",
       "        vertical-align: middle;\n",
       "    }\n",
       "\n",
       "    .dataframe tbody tr th {\n",
       "        vertical-align: top;\n",
       "    }\n",
       "\n",
       "    .dataframe thead th {\n",
       "        text-align: right;\n",
       "    }\n",
       "</style>\n",
       "<table border=\"1\" class=\"dataframe\">\n",
       "  <thead>\n",
       "    <tr style=\"text-align: right;\">\n",
       "      <th></th>\n",
       "      <th>region</th>\n",
       "      <th>pop_count</th>\n",
       "    </tr>\n",
       "  </thead>\n",
       "  <tbody>\n",
       "    <tr>\n",
       "      <th>4</th>\n",
       "      <td>Российская Федеpация</td>\n",
       "      <td>146171015</td>\n",
       "    </tr>\n",
       "    <tr>\n",
       "      <th>5</th>\n",
       "      <td>Центральный федеральный округ</td>\n",
       "      <td>39250960</td>\n",
       "    </tr>\n",
       "    <tr>\n",
       "      <th>6</th>\n",
       "      <td>Белгородская область</td>\n",
       "      <td>1541259</td>\n",
       "    </tr>\n",
       "    <tr>\n",
       "      <th>7</th>\n",
       "      <td>Брянская область</td>\n",
       "      <td>1182682</td>\n",
       "    </tr>\n",
       "    <tr>\n",
       "      <th>8</th>\n",
       "      <td>Владимирская область</td>\n",
       "      <td>1342099</td>\n",
       "    </tr>\n",
       "  </tbody>\n",
       "</table>\n",
       "</div>"
      ],
      "text/plain": [
       "                          region  pop_count\n",
       "4           Российская Федеpация  146171015\n",
       "5  Центральный федеральный округ   39250960\n",
       "6           Белгородская область    1541259\n",
       "7               Брянская область    1182682\n",
       "8           Владимирская область    1342099"
      ]
     },
     "execution_count": 21,
     "metadata": {},
     "output_type": "execute_result"
    }
   ],
   "source": [
    "#селф-чекинг\n",
    "\n",
    "pop_count.head()"
   ]
  },
  {
   "cell_type": "markdown",
   "id": "f79d4b37",
   "metadata": {},
   "source": [
    "### Уровень бедности: доля численности населения с денежными доходами ниже величины прожиточного минимума в процентах к общей численности населения"
   ]
  },
  {
   "cell_type": "code",
   "execution_count": 22,
   "id": "41e20278",
   "metadata": {},
   "outputs": [
    {
     "name": "stdout",
     "output_type": "stream",
     "text": [
      "<class 'pandas.core.frame.DataFrame'>\n",
      "RangeIndex: 102 entries, 0 to 101\n",
      "Data columns (total 4 columns):\n",
      " #   Column                     Non-Null Count  Dtype  \n",
      "---  ------                     --------------  -----  \n",
      " 0   2.1.7 Уровень бедности 1)  100 non-null    object \n",
      " 1   Unnamed: 1                 89 non-null     float64\n",
      " 2   Unnamed: 2                 89 non-null     object \n",
      " 3   Unnamed: 3                 89 non-null     object \n",
      "dtypes: float64(1), object(3)\n",
      "memory usage: 3.3+ KB\n"
     ]
    },
    {
     "data": {
      "text/html": [
       "<div>\n",
       "<style scoped>\n",
       "    .dataframe tbody tr th:only-of-type {\n",
       "        vertical-align: middle;\n",
       "    }\n",
       "\n",
       "    .dataframe tbody tr th {\n",
       "        vertical-align: top;\n",
       "    }\n",
       "\n",
       "    .dataframe thead th {\n",
       "        text-align: right;\n",
       "    }\n",
       "</style>\n",
       "<table border=\"1\" class=\"dataframe\">\n",
       "  <thead>\n",
       "    <tr style=\"text-align: right;\">\n",
       "      <th></th>\n",
       "      <th>2.1.7 Уровень бедности 1)</th>\n",
       "      <th>Unnamed: 1</th>\n",
       "      <th>Unnamed: 2</th>\n",
       "      <th>Unnamed: 3</th>\n",
       "    </tr>\n",
       "  </thead>\n",
       "  <tbody>\n",
       "    <tr>\n",
       "      <th>0</th>\n",
       "      <td>(доля численности населения с денежными дохода...</td>\n",
       "      <td>NaN</td>\n",
       "      <td>NaN</td>\n",
       "      <td>NaN</td>\n",
       "    </tr>\n",
       "    <tr>\n",
       "      <th>1</th>\n",
       "      <td>NaN</td>\n",
       "      <td>NaN</td>\n",
       "      <td>NaN</td>\n",
       "      <td>NaN</td>\n",
       "    </tr>\n",
       "    <tr>\n",
       "      <th>2</th>\n",
       "      <td>NaN</td>\n",
       "      <td>2018.0</td>\n",
       "      <td>20192)</td>\n",
       "      <td>20203)</td>\n",
       "    </tr>\n",
       "    <tr>\n",
       "      <th>3</th>\n",
       "      <td>Российская Федерация</td>\n",
       "      <td>12.6</td>\n",
       "      <td>12.3</td>\n",
       "      <td>12.1</td>\n",
       "    </tr>\n",
       "    <tr>\n",
       "      <th>4</th>\n",
       "      <td>Центральный федеральный округ</td>\n",
       "      <td>NaN</td>\n",
       "      <td>NaN</td>\n",
       "      <td>NaN</td>\n",
       "    </tr>\n",
       "    <tr>\n",
       "      <th>5</th>\n",
       "      <td>Белгородская область</td>\n",
       "      <td>7.5</td>\n",
       "      <td>7.8</td>\n",
       "      <td>7.2</td>\n",
       "    </tr>\n",
       "    <tr>\n",
       "      <th>6</th>\n",
       "      <td>Брянская область</td>\n",
       "      <td>13.6</td>\n",
       "      <td>13.8</td>\n",
       "      <td>13.8</td>\n",
       "    </tr>\n",
       "    <tr>\n",
       "      <th>7</th>\n",
       "      <td>Владимирская область</td>\n",
       "      <td>13.1</td>\n",
       "      <td>12.6</td>\n",
       "      <td>12.5</td>\n",
       "    </tr>\n",
       "  </tbody>\n",
       "</table>\n",
       "</div>"
      ],
      "text/plain": [
       "                           2.1.7 Уровень бедности 1)  Unnamed: 1 Unnamed: 2  \\\n",
       "0  (доля численности населения с денежными дохода...         NaN        NaN   \n",
       "1                                                NaN         NaN        NaN   \n",
       "2                                                NaN      2018.0     20192)   \n",
       "3                               Российская Федерация        12.6       12.3   \n",
       "4                      Центральный федеральный округ         NaN        NaN   \n",
       "5                               Белгородская область         7.5        7.8   \n",
       "6                                   Брянская область        13.6       13.8   \n",
       "7                               Владимирская область        13.1       12.6   \n",
       "\n",
       "  Unnamed: 3  \n",
       "0        NaN  \n",
       "1        NaN  \n",
       "2     20203)  \n",
       "3       12.1  \n",
       "4        NaN  \n",
       "5        7.2  \n",
       "6       13.8  \n",
       "7       12.5  "
      ]
     },
     "metadata": {},
     "output_type": "display_data"
    }
   ],
   "source": [
    "poverty_rate = pd.read_excel('C:\\\\anaconda3\\\\Test\\\\poverty_rate.xlsx', sheet_name='list1')\n",
    "poverty_rate.info()\n",
    "display(poverty_rate.head(8))"
   ]
  },
  {
   "cell_type": "code",
   "execution_count": 23,
   "id": "eea429f0",
   "metadata": {},
   "outputs": [],
   "source": [
    "#обновим названия колонок\n",
    "\n",
    "poverty_rate.columns = ['region','poverty18', 'poverty19', 'poverty20']"
   ]
  },
  {
   "cell_type": "code",
   "execution_count": 24,
   "id": "2c21fe6b",
   "metadata": {},
   "outputs": [],
   "source": [
    "#дропнем артефакты\n",
    "\n",
    "poverty_rate = poverty_rate.drop(poverty_rate.index[:3])\n",
    "poverty_rate.drop(poverty_rate.tail(3).index, inplace = True)"
   ]
  },
  {
   "cell_type": "code",
   "execution_count": 25,
   "id": "0fad4030",
   "metadata": {},
   "outputs": [],
   "source": [
    "#дропнем архивные данные за 18 и 19 годы - они зашумляют дальнейший анализ\n",
    "\n",
    "poverty_rate = poverty_rate.drop(columns = ['poverty18', 'poverty19'])"
   ]
  },
  {
   "cell_type": "code",
   "execution_count": 26,
   "id": "f0029bb7",
   "metadata": {},
   "outputs": [],
   "source": [
    "#изменим тип данных \n",
    "\n",
    "poverty_rate['poverty20'] = poverty_rate['poverty20'].astype('float')"
   ]
  },
  {
   "cell_type": "code",
   "execution_count": 27,
   "id": "2d6d37f1",
   "metadata": {},
   "outputs": [
    {
     "data": {
      "text/html": [
       "<div>\n",
       "<style scoped>\n",
       "    .dataframe tbody tr th:only-of-type {\n",
       "        vertical-align: middle;\n",
       "    }\n",
       "\n",
       "    .dataframe tbody tr th {\n",
       "        vertical-align: top;\n",
       "    }\n",
       "\n",
       "    .dataframe thead th {\n",
       "        text-align: right;\n",
       "    }\n",
       "</style>\n",
       "<table border=\"1\" class=\"dataframe\">\n",
       "  <thead>\n",
       "    <tr style=\"text-align: right;\">\n",
       "      <th></th>\n",
       "      <th>region</th>\n",
       "      <th>poverty20</th>\n",
       "    </tr>\n",
       "  </thead>\n",
       "  <tbody>\n",
       "    <tr>\n",
       "      <th>3</th>\n",
       "      <td>Российская Федерация</td>\n",
       "      <td>12.1</td>\n",
       "    </tr>\n",
       "    <tr>\n",
       "      <th>4</th>\n",
       "      <td>Центральный федеральный округ</td>\n",
       "      <td>NaN</td>\n",
       "    </tr>\n",
       "    <tr>\n",
       "      <th>5</th>\n",
       "      <td>Белгородская область</td>\n",
       "      <td>7.2</td>\n",
       "    </tr>\n",
       "    <tr>\n",
       "      <th>6</th>\n",
       "      <td>Брянская область</td>\n",
       "      <td>13.8</td>\n",
       "    </tr>\n",
       "    <tr>\n",
       "      <th>7</th>\n",
       "      <td>Владимирская область</td>\n",
       "      <td>12.5</td>\n",
       "    </tr>\n",
       "  </tbody>\n",
       "</table>\n",
       "</div>"
      ],
      "text/plain": [
       "                          region  poverty20\n",
       "3           Российская Федерация       12.1\n",
       "4  Центральный федеральный округ        NaN\n",
       "5           Белгородская область        7.2\n",
       "6               Брянская область       13.8\n",
       "7           Владимирская область       12.5"
      ]
     },
     "execution_count": 27,
     "metadata": {},
     "output_type": "execute_result"
    }
   ],
   "source": [
    "#селф-чекинг\n",
    "\n",
    "poverty_rate.head()"
   ]
  },
  {
   "cell_type": "markdown",
   "id": "5af8f7de",
   "metadata": {},
   "source": [
    "### Темп роста (индекс роста) реального среднедушевого денежного дохода населения в 2020 г. (первая оценка - на 34 рабочий день)"
   ]
  },
  {
   "cell_type": "code",
   "execution_count": 28,
   "id": "132f8c62",
   "metadata": {},
   "outputs": [
    {
     "name": "stdout",
     "output_type": "stream",
     "text": [
      "<class 'pandas.core.frame.DataFrame'>\n",
      "RangeIndex: 101 entries, 0 to 100\n",
      "Data columns (total 2 columns):\n",
      " #   Column                                               Non-Null Count  Dtype \n",
      "---  ------                                               --------------  ----- \n",
      " 0   Темп роста (индекс роста) реального среднедушевого   98 non-null     object\n",
      " 1   Unnamed: 1                                           98 non-null     object\n",
      "dtypes: object(2)\n",
      "memory usage: 1.7+ KB\n"
     ]
    },
    {
     "data": {
      "text/html": [
       "<div>\n",
       "<style scoped>\n",
       "    .dataframe tbody tr th:only-of-type {\n",
       "        vertical-align: middle;\n",
       "    }\n",
       "\n",
       "    .dataframe tbody tr th {\n",
       "        vertical-align: top;\n",
       "    }\n",
       "\n",
       "    .dataframe thead th {\n",
       "        text-align: right;\n",
       "    }\n",
       "</style>\n",
       "<table border=\"1\" class=\"dataframe\">\n",
       "  <thead>\n",
       "    <tr style=\"text-align: right;\">\n",
       "      <th></th>\n",
       "      <th>Темп роста (индекс роста) реального среднедушевого</th>\n",
       "      <th>Unnamed: 1</th>\n",
       "    </tr>\n",
       "  </thead>\n",
       "  <tbody>\n",
       "    <tr>\n",
       "      <th>0</th>\n",
       "      <td>денежного дохода населения в 2020 г. (первая о...</td>\n",
       "      <td>NaN</td>\n",
       "    </tr>\n",
       "    <tr>\n",
       "      <th>1</th>\n",
       "      <td>NaN</td>\n",
       "      <td>NaN</td>\n",
       "    </tr>\n",
       "    <tr>\n",
       "      <th>2</th>\n",
       "      <td>в % к предыдущему году</td>\n",
       "      <td>NaN</td>\n",
       "    </tr>\n",
       "    <tr>\n",
       "      <th>3</th>\n",
       "      <td>NaN</td>\n",
       "      <td>Темп роста (индекс роста) реального среднедуше...</td>\n",
       "    </tr>\n",
       "    <tr>\n",
       "      <th>4</th>\n",
       "      <td>NaN</td>\n",
       "      <td>денежного дохода населения в 2020 г. (первая о...</td>\n",
       "    </tr>\n",
       "    <tr>\n",
       "      <th>5</th>\n",
       "      <td>Российская Федерация</td>\n",
       "      <td>97</td>\n",
       "    </tr>\n",
       "    <tr>\n",
       "      <th>6</th>\n",
       "      <td>Центральный федеральный округ</td>\n",
       "      <td>97.5</td>\n",
       "    </tr>\n",
       "    <tr>\n",
       "      <th>7</th>\n",
       "      <td>Белгородская область</td>\n",
       "      <td>98.4</td>\n",
       "    </tr>\n",
       "  </tbody>\n",
       "</table>\n",
       "</div>"
      ],
      "text/plain": [
       "  Темп роста (индекс роста) реального среднедушевого   \\\n",
       "0  денежного дохода населения в 2020 г. (первая о...    \n",
       "1                                                NaN    \n",
       "2                             в % к предыдущему году    \n",
       "3                                                NaN    \n",
       "4                                                NaN    \n",
       "5                              Российская Федерация     \n",
       "6                      Центральный федеральный округ    \n",
       "7                             Белгородская область      \n",
       "\n",
       "                                          Unnamed: 1  \n",
       "0                                                NaN  \n",
       "1                                                NaN  \n",
       "2                                                NaN  \n",
       "3  Темп роста (индекс роста) реального среднедуше...  \n",
       "4  денежного дохода населения в 2020 г. (первая о...  \n",
       "5                                                 97  \n",
       "6                                               97.5  \n",
       "7                                               98.4  "
      ]
     },
     "metadata": {},
     "output_type": "display_data"
    }
   ],
   "source": [
    "sal_growth_index = pd.read_excel('C:\\\\anaconda3\\\\Test\\\\sal_growth_index.xlsx', sheet_name='list1')\n",
    "sal_growth_index.info()\n",
    "display(sal_growth_index.head(8))"
   ]
  },
  {
   "cell_type": "code",
   "execution_count": 29,
   "id": "8d494655",
   "metadata": {},
   "outputs": [],
   "source": [
    "#обновим названия колонок\n",
    "\n",
    "sal_growth_index.columns = ['region', 'sal_growth_index']"
   ]
  },
  {
   "cell_type": "code",
   "execution_count": 30,
   "id": "cd327538",
   "metadata": {},
   "outputs": [],
   "source": [
    "#дропнем артефакты\n",
    "\n",
    "sal_growth_index = sal_growth_index.drop(sal_growth_index.index[:5])"
   ]
  },
  {
   "cell_type": "code",
   "execution_count": 31,
   "id": "d3f8aacc",
   "metadata": {},
   "outputs": [],
   "source": [
    "#изменим тип данных \n",
    "\n",
    "sal_growth_index['sal_growth_index'] = sal_growth_index['sal_growth_index'].astype('float')"
   ]
  },
  {
   "cell_type": "code",
   "execution_count": 32,
   "id": "94d36893",
   "metadata": {},
   "outputs": [
    {
     "data": {
      "text/html": [
       "<div>\n",
       "<style scoped>\n",
       "    .dataframe tbody tr th:only-of-type {\n",
       "        vertical-align: middle;\n",
       "    }\n",
       "\n",
       "    .dataframe tbody tr th {\n",
       "        vertical-align: top;\n",
       "    }\n",
       "\n",
       "    .dataframe thead th {\n",
       "        text-align: right;\n",
       "    }\n",
       "</style>\n",
       "<table border=\"1\" class=\"dataframe\">\n",
       "  <thead>\n",
       "    <tr style=\"text-align: right;\">\n",
       "      <th></th>\n",
       "      <th>region</th>\n",
       "      <th>sal_growth_index</th>\n",
       "    </tr>\n",
       "  </thead>\n",
       "  <tbody>\n",
       "    <tr>\n",
       "      <th>5</th>\n",
       "      <td>Российская Федерация</td>\n",
       "      <td>97.0</td>\n",
       "    </tr>\n",
       "    <tr>\n",
       "      <th>6</th>\n",
       "      <td>Центральный федеральный округ</td>\n",
       "      <td>97.5</td>\n",
       "    </tr>\n",
       "    <tr>\n",
       "      <th>7</th>\n",
       "      <td>Белгородская область</td>\n",
       "      <td>98.4</td>\n",
       "    </tr>\n",
       "    <tr>\n",
       "      <th>8</th>\n",
       "      <td>Брянская область</td>\n",
       "      <td>95.8</td>\n",
       "    </tr>\n",
       "    <tr>\n",
       "      <th>9</th>\n",
       "      <td>Владимирская область</td>\n",
       "      <td>98.1</td>\n",
       "    </tr>\n",
       "  </tbody>\n",
       "</table>\n",
       "</div>"
      ],
      "text/plain": [
       "                          region  sal_growth_index\n",
       "5          Российская Федерация               97.0\n",
       "6  Центральный федеральный округ              97.5\n",
       "7         Белгородская область                98.4\n",
       "8              Брянская область               95.8\n",
       "9           Владимирская область              98.1"
      ]
     },
     "execution_count": 32,
     "metadata": {},
     "output_type": "execute_result"
    }
   ],
   "source": [
    "#селф-чекинг\n",
    "\n",
    "sal_growth_index.head()"
   ]
  },
  {
   "cell_type": "markdown",
   "id": "49c72f63",
   "metadata": {},
   "source": [
    "## Проверка на дубликаты, аномалии и пропуски"
   ]
  },
  {
   "cell_type": "markdown",
   "id": "bf1c54fa",
   "metadata": {},
   "source": [
    "### Проверка на пропуски"
   ]
  },
  {
   "cell_type": "code",
   "execution_count": 33,
   "id": "f32c20e4",
   "metadata": {},
   "outputs": [
    {
     "name": "stdout",
     "output_type": "stream",
     "text": [
      "- Пропусков в датасете avg_salary/ region: 0\n",
      "- Пропусков в датасете avg_salary/ salary_percent_yty: 0\n"
     ]
    }
   ],
   "source": [
    "avg_salary_columns = ['region','salary_percent_yty']\n",
    "\n",
    "def avg_salary_count_nan(list):\n",
    "    \n",
    "    for file in avg_salary_columns:\n",
    "        print('- Пропусков в датасете avg_salary/ {}:'.format(file), len(avg_salary[avg_salary[file].isna()]))\n",
    "        \n",
    "avg_salary_count_nan(avg_salary_columns)"
   ]
  },
  {
   "cell_type": "code",
   "execution_count": 34,
   "id": "7cb340d6",
   "metadata": {},
   "outputs": [
    {
     "name": "stdout",
     "output_type": "stream",
     "text": [
      "- Пропусков в датасете building_volume/ region: 0\n",
      "- Пропусков в датасете building_volume/ building_vol_mkd: 0\n",
      "- Пропусков в датасете building_volume/ building_vol_cit: 0\n"
     ]
    }
   ],
   "source": [
    "building_volume_columns = ['region','building_vol_mkd', 'building_vol_cit']\n",
    "\n",
    "def building_volume_count_nan(list):\n",
    "    \n",
    "    for file in building_volume_columns:\n",
    "        print('- Пропусков в датасете building_volume/ {}:'.format(file), len(building_volume[building_volume[file].isna()]))\n",
    "        \n",
    "building_volume_count_nan(building_volume_columns)"
   ]
  },
  {
   "cell_type": "code",
   "execution_count": 35,
   "id": "d1452a6d",
   "metadata": {},
   "outputs": [
    {
     "name": "stdout",
     "output_type": "stream",
     "text": [
      "- Пропусков в датасете lifetime_exp/ region: 0\n",
      "- Пропусков в датасете lifetime_exp/ lifetime_exp: 0\n"
     ]
    }
   ],
   "source": [
    "lifetime_exp_columns = ['region','lifetime_exp']\n",
    "\n",
    "def lifetime_exp_count_nan(list):\n",
    "    \n",
    "    for file in lifetime_exp_columns:\n",
    "        print('- Пропусков в датасете lifetime_exp/ {}:'.format(file), len(lifetime_exp[lifetime_exp[file].isna()]))\n",
    "        \n",
    "lifetime_exp_count_nan(lifetime_exp_columns)"
   ]
  },
  {
   "cell_type": "code",
   "execution_count": 36,
   "id": "6a4ecc85",
   "metadata": {},
   "outputs": [
    {
     "name": "stdout",
     "output_type": "stream",
     "text": [
      "- Пропусков в датасете pop_count/ region: 0\n",
      "- Пропусков в датасете pop_count/ pop_count: 0\n"
     ]
    }
   ],
   "source": [
    "pop_count_columns = ['region','pop_count']\n",
    "\n",
    "def pop_count_count_nan(list):\n",
    "    \n",
    "    for file in pop_count_columns:\n",
    "        print('- Пропусков в датасете pop_count/ {}:'.format(file), len(pop_count[pop_count[file].isna()]))\n",
    "        \n",
    "pop_count_count_nan(pop_count_columns)"
   ]
  },
  {
   "cell_type": "code",
   "execution_count": 37,
   "id": "4cd9ca3a",
   "metadata": {},
   "outputs": [
    {
     "name": "stdout",
     "output_type": "stream",
     "text": [
      "- Пропусков в датасете poverty_rate/ region: 0\n",
      "- Пропусков в датасете poverty_rate/ poverty20: 8\n"
     ]
    }
   ],
   "source": [
    "poverty_rate_columns = ['region', 'poverty20']\n",
    "\n",
    "def poverty_rate_count_nan(list):\n",
    "    \n",
    "    for file in poverty_rate_columns:\n",
    "        print('- Пропусков в датасете poverty_rate/ {}:'.format(file), len(poverty_rate[poverty_rate[file].isna()]))\n",
    "        \n",
    "poverty_rate_count_nan(poverty_rate_columns)"
   ]
  },
  {
   "cell_type": "markdown",
   "id": "96fa3e44",
   "metadata": {},
   "source": [
    "Недостаточно данных, чтобы должным образом заполнить пропуски. Оставим без изменений. "
   ]
  },
  {
   "cell_type": "code",
   "execution_count": 38,
   "id": "d612b841",
   "metadata": {},
   "outputs": [
    {
     "name": "stdout",
     "output_type": "stream",
     "text": [
      "- Пропусков в датасете sal_growth_index/ region: 0\n",
      "- Пропусков в датасете sal_growth_index/ sal_growth_index: 0\n"
     ]
    }
   ],
   "source": [
    "sal_growth_index_columns = ['region', 'sal_growth_index']\n",
    "\n",
    "def sal_growth_index_count_nan(list):\n",
    "    \n",
    "    for file in sal_growth_index_columns:\n",
    "        print('- Пропусков в датасете sal_growth_index/ {}:'.format(file), len(sal_growth_index[sal_growth_index[file].isna()]))\n",
    "        \n",
    "sal_growth_index_count_nan(sal_growth_index_columns)"
   ]
  },
  {
   "cell_type": "markdown",
   "id": "8853aeeb",
   "metadata": {},
   "source": [
    "### Дубликаты"
   ]
  },
  {
   "cell_type": "code",
   "execution_count": 39,
   "id": "2d9b8fc2",
   "metadata": {},
   "outputs": [
    {
     "name": "stdout",
     "output_type": "stream",
     "text": [
      "Дубликатов в таблице avg_salary: 0\n",
      "Дубликатов в таблице building_volume: 0\n",
      "Дубликатов в таблице lifetime_exp: 0\n",
      "Дубликатов в таблице pop_count: 0\n",
      "Дубликатов в таблице poverty_rate: 0\n",
      "Дубликатов в таблице sal_growth_index: 0\n"
     ]
    }
   ],
   "source": [
    "print('Дубликатов в таблице avg_salary:', avg_salary.duplicated().sum())\n",
    "print('Дубликатов в таблице building_volume:', building_volume.duplicated().sum())\n",
    "print('Дубликатов в таблице lifetime_exp:', lifetime_exp.duplicated().sum())\n",
    "print('Дубликатов в таблице pop_count:', pop_count.duplicated().sum())\n",
    "print('Дубликатов в таблице poverty_rate:', poverty_rate.duplicated().sum())\n",
    "print('Дубликатов в таблице sal_growth_index:', sal_growth_index.duplicated().sum())"
   ]
  },
  {
   "cell_type": "markdown",
   "id": "d5319e00",
   "metadata": {},
   "source": [
    "### Аномалии"
   ]
  },
  {
   "cell_type": "code",
   "execution_count": 40,
   "id": "51d9f58d",
   "metadata": {},
   "outputs": [],
   "source": [
    "#во время первичной предобработки обнаружил \"-\" вместо проупуска в нескольких таблицах. Исправим\n",
    "\n",
    "building_volume['building_vol_mkd'] = building_volume['building_vol_mkd'].replace('-', np.NaN)\n",
    "building_volume['building_vol_cit'] = building_volume['building_vol_cit'].replace('-', np.NaN)"
   ]
  },
  {
   "cell_type": "code",
   "execution_count": 41,
   "id": "9090f5ba",
   "metadata": {},
   "outputs": [],
   "source": [
    "#изменим тип данных \n",
    "\n",
    "building_volume['building_vol_mkd'] = building_volume['building_vol_mkd'].astype('float')\n",
    "building_volume['building_vol_cit'] = building_volume['building_vol_cit'].astype('float')"
   ]
  },
  {
   "cell_type": "markdown",
   "id": "a97329d8",
   "metadata": {},
   "source": [
    "## Мердж"
   ]
  },
  {
   "cell_type": "code",
   "execution_count": 42,
   "id": "af0f4ed2",
   "metadata": {},
   "outputs": [
    {
     "name": "stdout",
     "output_type": "stream",
     "text": [
      "Название региона 25 в датасете avg_salary: Архангельская область (кроме Ненецкого автономного округа)\n",
      "Название региона 47 в датасете avg_salary: Республика Северная Осетия - Алания\n",
      "Название региона 95 в датасете avg_salary: Чукотский авт.округ\n",
      "---------------------------------------------------------------------\n",
      "Название региона 25 в датасете lifetime_exp: Архангельская область без автономии\n",
      "Название региона 47 в датасете lifetime_exp: Республика Северная Осетия – Алания\n",
      "Название региона 95 в датасете lifetime_exp: Чукотский автономный округ\n"
     ]
    }
   ],
   "source": [
    "#проверим варианты написания названий регионов в разных детесетах (произвольно взял 25-й, 47-й и 95-й)\n",
    "\n",
    "regions_avg_salary = avg_salary['region'].to_list()\n",
    "print('Название региона 25 в датасете avg_salary:', regions_avg_salary[25])\n",
    "print('Название региона 47 в датасете avg_salary:', regions_avg_salary[47])\n",
    "print('Название региона 95 в датасете avg_salary:', regions_avg_salary[95])\n",
    "print('---------------------------------------------------------------------')\n",
    "regions_lifetime_exp = lifetime_exp['region'].to_list()\n",
    "print('Название региона 25 в датасете lifetime_exp:', regions_lifetime_exp[25])\n",
    "print('Название региона 47 в датасете lifetime_exp:', regions_lifetime_exp[47])\n",
    "print('Название региона 95 в датасете lifetime_exp:', regions_lifetime_exp[95])"
   ]
  },
  {
   "cell_type": "markdown",
   "id": "076ae85f",
   "metadata": {},
   "source": [
    "При текущем написании названий регионов смерджить все регионы не получится. Подбирать функцию для замены нецелесообразно: вариантов написания названий регионов много.\n",
    "\n",
    "Порядок регионов во всех датасетах одинаковый, поэтому приведем их названия к единому формату написания, приведя колонку в список и заполнив им все соответствующие колонки в остальных датасетах."
   ]
  },
  {
   "cell_type": "code",
   "execution_count": 43,
   "id": "40a77585",
   "metadata": {},
   "outputs": [],
   "source": [
    "#унифицируем написание названий регионов\n",
    "\n",
    "avg_salary['region'] = regions_avg_salary\n",
    "building_volume['region'] = regions_avg_salary\n",
    "lifetime_exp['region'] = regions_avg_salary\n",
    "pop_count['region'] = regions_avg_salary\n",
    "poverty_rate['region'] = regions_avg_salary\n",
    "sal_growth_index['region'] = regions_avg_salary"
   ]
  },
  {
   "cell_type": "code",
   "execution_count": 44,
   "id": "e635f935",
   "metadata": {},
   "outputs": [],
   "source": [
    "#смёрджим датасеты в рабочий датасет\n",
    "\n",
    "df = pd.merge(avg_salary, building_volume, how = 'left', on = 'region')\n",
    "df = pd.merge(df, lifetime_exp, how = 'left', on = 'region')\n",
    "df = pd.merge(df, pop_count, how = 'left', on = 'region')\n",
    "df = pd.merge(df, poverty_rate, how = 'left', on = 'region')\n",
    "df = pd.merge(df, sal_growth_index, how = 'left', on = 'region')"
   ]
  },
  {
   "cell_type": "code",
   "execution_count": 45,
   "id": "cf768c63",
   "metadata": {},
   "outputs": [
    {
     "name": "stdout",
     "output_type": "stream",
     "text": [
      "<class 'pandas.core.frame.DataFrame'>\n",
      "Int64Index: 85 entries, 2 to 95\n",
      "Data columns (total 8 columns):\n",
      " #   Column              Non-Null Count  Dtype  \n",
      "---  ------              --------------  -----  \n",
      " 0   region              85 non-null     object \n",
      " 1   salary_percent_yty  85 non-null     float64\n",
      " 2   building_vol_mkd    85 non-null     float64\n",
      " 3   building_vol_cit    85 non-null     float64\n",
      " 4   lifetime_exp        85 non-null     float64\n",
      " 5   pop_count           85 non-null     int32  \n",
      " 6   poverty20           85 non-null     float64\n",
      " 7   sal_growth_index    85 non-null     float64\n",
      "dtypes: float64(6), int32(1), object(1)\n",
      "memory usage: 5.6+ KB\n"
     ]
    },
    {
     "data": {
      "text/html": [
       "<div>\n",
       "<style scoped>\n",
       "    .dataframe tbody tr th:only-of-type {\n",
       "        vertical-align: middle;\n",
       "    }\n",
       "\n",
       "    .dataframe tbody tr th {\n",
       "        vertical-align: top;\n",
       "    }\n",
       "\n",
       "    .dataframe thead th {\n",
       "        text-align: right;\n",
       "    }\n",
       "</style>\n",
       "<table border=\"1\" class=\"dataframe\">\n",
       "  <thead>\n",
       "    <tr style=\"text-align: right;\">\n",
       "      <th></th>\n",
       "      <th>region</th>\n",
       "      <th>salary_percent_yty</th>\n",
       "      <th>building_vol_mkd</th>\n",
       "      <th>building_vol_cit</th>\n",
       "      <th>lifetime_exp</th>\n",
       "      <th>pop_count</th>\n",
       "      <th>poverty20</th>\n",
       "      <th>sal_growth_index</th>\n",
       "    </tr>\n",
       "  </thead>\n",
       "  <tbody>\n",
       "    <tr>\n",
       "      <th>2</th>\n",
       "      <td>Белгородская область</td>\n",
       "      <td>104.5</td>\n",
       "      <td>0.2136</td>\n",
       "      <td>0.9350</td>\n",
       "      <td>72.4</td>\n",
       "      <td>1541259</td>\n",
       "      <td>7.2</td>\n",
       "      <td>98.4</td>\n",
       "    </tr>\n",
       "    <tr>\n",
       "      <th>3</th>\n",
       "      <td>Брянская область</td>\n",
       "      <td>102.2</td>\n",
       "      <td>0.2515</td>\n",
       "      <td>0.1752</td>\n",
       "      <td>70.6</td>\n",
       "      <td>1182682</td>\n",
       "      <td>13.8</td>\n",
       "      <td>95.8</td>\n",
       "    </tr>\n",
       "    <tr>\n",
       "      <th>4</th>\n",
       "      <td>Владимирская область</td>\n",
       "      <td>102.4</td>\n",
       "      <td>0.2454</td>\n",
       "      <td>0.4809</td>\n",
       "      <td>70.0</td>\n",
       "      <td>1342099</td>\n",
       "      <td>12.5</td>\n",
       "      <td>98.1</td>\n",
       "    </tr>\n",
       "    <tr>\n",
       "      <th>5</th>\n",
       "      <td>Воронежская область</td>\n",
       "      <td>101.8</td>\n",
       "      <td>0.8812</td>\n",
       "      <td>0.8446</td>\n",
       "      <td>71.9</td>\n",
       "      <td>2305608</td>\n",
       "      <td>8.5</td>\n",
       "      <td>94.6</td>\n",
       "    </tr>\n",
       "    <tr>\n",
       "      <th>6</th>\n",
       "      <td>Ивановская область</td>\n",
       "      <td>100.6</td>\n",
       "      <td>0.1383</td>\n",
       "      <td>0.1949</td>\n",
       "      <td>70.7</td>\n",
       "      <td>987032</td>\n",
       "      <td>13.7</td>\n",
       "      <td>96.6</td>\n",
       "    </tr>\n",
       "  </tbody>\n",
       "</table>\n",
       "</div>"
      ],
      "text/plain": [
       "                 region  salary_percent_yty  building_vol_mkd  \\\n",
       "2  Белгородская область               104.5            0.2136   \n",
       "3      Брянская область               102.2            0.2515   \n",
       "4  Владимирская область               102.4            0.2454   \n",
       "5   Воронежская область               101.8            0.8812   \n",
       "6    Ивановская область               100.6            0.1383   \n",
       "\n",
       "   building_vol_cit  lifetime_exp  pop_count  poverty20  sal_growth_index  \n",
       "2            0.9350          72.4    1541259        7.2              98.4  \n",
       "3            0.1752          70.6    1182682       13.8              95.8  \n",
       "4            0.4809          70.0    1342099       12.5              98.1  \n",
       "5            0.8446          71.9    2305608        8.5              94.6  \n",
       "6            0.1949          70.7     987032       13.7              96.6  "
      ]
     },
     "execution_count": 45,
     "metadata": {},
     "output_type": "execute_result"
    }
   ],
   "source": [
    "#удалим общее значение РФ и федеральные округи\n",
    "\n",
    "to_drop = ['Российская Федерация', 'Центральный федеральный округ', 'Северо-Западный федеральный округ',\\\n",
    "          'Архангельская область', 'Южный федеральный округ ', 'Северо-Кавказский федеральный округ',\\\n",
    "          'Приволжский федеральный округ', 'Уральский федеральный округ', 'Тюменская область',\\\n",
    "          'Сибирский федеральный округ ', 'Дальневосточный федеральный округ']\n",
    "\n",
    "df = df.query('region not in @to_drop')\n",
    "\n",
    "df['building_vol_mkd']= df['building_vol_mkd'].fillna(0) #заменим NaN на 0, чтобы в дальнейшем мы могли провести кластеризацию\n",
    "df['building_vol_cit']= df['building_vol_cit'].fillna(0) #заменим NaN на 0, чтобы в дальнейшем мы могли провести кластеризацию\n",
    "\n",
    "df.info()\n",
    "df.head()"
   ]
  },
  {
   "cell_type": "markdown",
   "id": "d345e63b",
   "metadata": {},
   "source": [
    "**Объединенный датасет готов к проведению исследовательского анализа и применению алгоритмов МО**"
   ]
  },
  {
   "cell_type": "markdown",
   "id": "3b4e4018",
   "metadata": {},
   "source": [
    "## Анализ данных"
   ]
  },
  {
   "cell_type": "code",
   "execution_count": 46,
   "id": "314810e8",
   "metadata": {},
   "outputs": [
    {
     "data": {
      "text/html": [
       "<div>\n",
       "<style scoped>\n",
       "    .dataframe tbody tr th:only-of-type {\n",
       "        vertical-align: middle;\n",
       "    }\n",
       "\n",
       "    .dataframe tbody tr th {\n",
       "        vertical-align: top;\n",
       "    }\n",
       "\n",
       "    .dataframe thead th {\n",
       "        text-align: right;\n",
       "    }\n",
       "</style>\n",
       "<table border=\"1\" class=\"dataframe\">\n",
       "  <thead>\n",
       "    <tr style=\"text-align: right;\">\n",
       "      <th></th>\n",
       "      <th>salary_percent_yty</th>\n",
       "      <th>building_vol_mkd</th>\n",
       "      <th>building_vol_cit</th>\n",
       "      <th>lifetime_exp</th>\n",
       "      <th>pop_count</th>\n",
       "      <th>poverty20</th>\n",
       "      <th>sal_growth_index</th>\n",
       "    </tr>\n",
       "  </thead>\n",
       "  <tbody>\n",
       "    <tr>\n",
       "      <th>count</th>\n",
       "      <td>85.000000</td>\n",
       "      <td>85.000000</td>\n",
       "      <td>85.000000</td>\n",
       "      <td>85.000000</td>\n",
       "      <td>8.500000e+01</td>\n",
       "      <td>85.000000</td>\n",
       "      <td>85.000000</td>\n",
       "    </tr>\n",
       "    <tr>\n",
       "      <th>mean</th>\n",
       "      <td>102.527059</td>\n",
       "      <td>0.498504</td>\n",
       "      <td>0.468141</td>\n",
       "      <td>70.997647</td>\n",
       "      <td>1.719659e+06</td>\n",
       "      <td>13.968235</td>\n",
       "      <td>98.007059</td>\n",
       "    </tr>\n",
       "    <tr>\n",
       "      <th>std</th>\n",
       "      <td>2.171646</td>\n",
       "      <td>0.819208</td>\n",
       "      <td>0.597572</td>\n",
       "      <td>2.148919</td>\n",
       "      <td>1.810708e+06</td>\n",
       "      <td>5.151473</td>\n",
       "      <td>2.316493</td>\n",
       "    </tr>\n",
       "    <tr>\n",
       "      <th>min</th>\n",
       "      <td>97.700000</td>\n",
       "      <td>0.000000</td>\n",
       "      <td>0.000000</td>\n",
       "      <td>65.800000</td>\n",
       "      <td>4.438900e+04</td>\n",
       "      <td>5.000000</td>\n",
       "      <td>91.900000</td>\n",
       "    </tr>\n",
       "    <tr>\n",
       "      <th>25%</th>\n",
       "      <td>101.000000</td>\n",
       "      <td>0.112800</td>\n",
       "      <td>0.142800</td>\n",
       "      <td>69.900000</td>\n",
       "      <td>7.246860e+05</td>\n",
       "      <td>10.600000</td>\n",
       "      <td>96.600000</td>\n",
       "    </tr>\n",
       "    <tr>\n",
       "      <th>50%</th>\n",
       "      <td>102.400000</td>\n",
       "      <td>0.234400</td>\n",
       "      <td>0.291000</td>\n",
       "      <td>70.700000</td>\n",
       "      <td>1.151042e+06</td>\n",
       "      <td>13.300000</td>\n",
       "      <td>98.000000</td>\n",
       "    </tr>\n",
       "    <tr>\n",
       "      <th>75%</th>\n",
       "      <td>103.900000</td>\n",
       "      <td>0.482900</td>\n",
       "      <td>0.602500</td>\n",
       "      <td>71.900000</td>\n",
       "      <td>2.296353e+06</td>\n",
       "      <td>15.900000</td>\n",
       "      <td>99.300000</td>\n",
       "    </tr>\n",
       "    <tr>\n",
       "      <th>max</th>\n",
       "      <td>110.700000</td>\n",
       "      <td>4.554400</td>\n",
       "      <td>4.485800</td>\n",
       "      <td>81.200000</td>\n",
       "      <td>1.265505e+07</td>\n",
       "      <td>34.100000</td>\n",
       "      <td>104.800000</td>\n",
       "    </tr>\n",
       "  </tbody>\n",
       "</table>\n",
       "</div>"
      ],
      "text/plain": [
       "       salary_percent_yty  building_vol_mkd  building_vol_cit  lifetime_exp  \\\n",
       "count           85.000000         85.000000         85.000000     85.000000   \n",
       "mean           102.527059          0.498504          0.468141     70.997647   \n",
       "std              2.171646          0.819208          0.597572      2.148919   \n",
       "min             97.700000          0.000000          0.000000     65.800000   \n",
       "25%            101.000000          0.112800          0.142800     69.900000   \n",
       "50%            102.400000          0.234400          0.291000     70.700000   \n",
       "75%            103.900000          0.482900          0.602500     71.900000   \n",
       "max            110.700000          4.554400          4.485800     81.200000   \n",
       "\n",
       "          pop_count  poverty20  sal_growth_index  \n",
       "count  8.500000e+01  85.000000         85.000000  \n",
       "mean   1.719659e+06  13.968235         98.007059  \n",
       "std    1.810708e+06   5.151473          2.316493  \n",
       "min    4.438900e+04   5.000000         91.900000  \n",
       "25%    7.246860e+05  10.600000         96.600000  \n",
       "50%    1.151042e+06  13.300000         98.000000  \n",
       "75%    2.296353e+06  15.900000         99.300000  \n",
       "max    1.265505e+07  34.100000        104.800000  "
      ]
     },
     "execution_count": 46,
     "metadata": {},
     "output_type": "execute_result"
    }
   ],
   "source": [
    "df.describe()"
   ]
  },
  {
   "cell_type": "markdown",
   "id": "82f401c9",
   "metadata": {},
   "source": [
    "Данные распределены неравномерно, стандартные отклонения сильно расходятся со средними значениями."
   ]
  },
  {
   "cell_type": "code",
   "execution_count": 47,
   "id": "3909f821",
   "metadata": {},
   "outputs": [
    {
     "data": {
      "image/png": "[encoded data removed]",
      "text/plain": [
       "<Figure size 720x288 with 1 Axes>"
      ]
     },
     "metadata": {
      "needs_background": "light"
     },
     "output_type": "display_data"
    },
    {
     "data": {
      "image/png": "[encoded data removed]",
      "text/plain": [
       "<Figure size 720x288 with 1 Axes>"
      ]
     },
     "metadata": {
      "needs_background": "light"
     },
     "output_type": "display_data"
    },
    {
     "data": {
      "image/png": "[encoded data removed]",
      "text/plain": [
       "<Figure size 720x288 with 1 Axes>"
      ]
     },
     "metadata": {
      "needs_background": "light"
     },
     "output_type": "display_data"
    },
    {
     "data": {
      "image/png": "[encoded data removed]",
      "text/plain": [
       "<Figure size 720x288 with 1 Axes>"
      ]
     },
     "metadata": {
      "needs_background": "light"
     },
     "output_type": "display_data"
    },
    {
     "data": {
      "image/png": "[encoded data removed]",
      "text/plain": [
       "<Figure size 720x288 with 1 Axes>"
      ]
     },
     "metadata": {
      "needs_background": "light"
     },
     "output_type": "display_data"
    },
    {
     "data": {
      "image/png": "[encoded data removed]",
      "text/plain": [
       "<Figure size 720x288 with 1 Axes>"
      ]
     },
     "metadata": {
      "needs_background": "light"
     },
     "output_type": "display_data"
    },
    {
     "data": {
      "image/png": "[encoded data removed]",
      "text/plain": [
       "<Figure size 720x288 with 1 Axes>"
      ]
     },
     "metadata": {
      "needs_background": "light"
     },
     "output_type": "display_data"
    }
   ],
   "source": [
    "distplot_columns = ['salary_percent_yty', 'building_vol_mkd', \n",
    "                    'building_vol_cit', 'lifetime_exp', \n",
    "                    'pop_count', 'poverty20', 'sal_growth_index']\n",
    "for column in distplot_columns: \n",
    "    plt.figure(figsize=(10,4)) \n",
    "    plt.title(column)\n",
    "    sns.distplot(df[column])\n",
    "#    plt.legend()\n",
    "    plt.show()"
   ]
  },
  {
   "cell_type": "markdown",
   "id": "9f87292d",
   "metadata": {},
   "source": [
    "**Реальная среднемесячная начисленная заработная плата работников организаций по субъектам Российской Федерации**:\n",
    "- распределение больше других похоже на нормальное с наиболее часто встречаемым значением в 102,5%, при этом, как и на всех дальнейших графиках, есть небольшой всплеск ближе к краю правой ветки - видимо, за счет наиболее успешных регионов\n",
    "\n",
    "**Темпы строительства МКД**:\n",
    "- заметен сильный перекос графика влево, в большинстве регионов темп строительства МКД низкий\n",
    "\n",
    "**Темпы строительства населением**:\n",
    "- заметен сильный перекос графика влево, в большинстве регионов темп строительства населением низкий\n",
    "\n",
    "**Ожидаемая продолжительность жизни**:\n",
    "- средняя продолжительность жизни - чуть более 70 лет в среднем по РФ\n",
    "\n",
    "**Население регионов**:\n",
    "- большинство регионов имеют численность населения около 2 млн человек\n",
    "- в целом, подавляющее число регионов - малонаселенные\n",
    "\n",
    "**Уровень бедности**:\n",
    "- в большинстве регионов уровень бедности находится в районе 13%\n",
    "- тревожно то, что есть регионы с уровнем бедности более 30%\n",
    "\n",
    "**Темп роста (индекс роста) реального среднедушевого денежного дохода**:\n",
    "- в среднем, темп роста реального денежного дохода находится на уровне 97%, что предполагает падение реального уровня доходов населения\n",
    "- регионов с уровнем более 100% (рост) меньшинство"
   ]
  },
  {
   "cell_type": "code",
   "execution_count": 48,
   "id": "69be70d0",
   "metadata": {},
   "outputs": [
    {
     "data": {
      "image/png": "[encoded data removed]",
      "text/plain": [
       "<Figure size 1008x576 with 2 Axes>"
      ]
     },
     "metadata": {
      "needs_background": "light"
     },
     "output_type": "display_data"
    }
   ],
   "source": [
    "#матрица корреляций\n",
    "\n",
    "matr = df.corr()\n",
    "plt.figure(figsize=(14,8))\n",
    "sns.heatmap(matr, annot = True, square=False)\n",
    "plt.title('Матрица корреляций признаков', fontsize = 20)\n",
    "plt.xlabel('Признаки', fontsize = 14)\n",
    "plt.ylabel('Признаки', fontsize = 14)\n",
    "plt.show()"
   ]
  },
  {
   "cell_type": "code",
   "execution_count": 49,
   "id": "6f6776e1",
   "metadata": {},
   "outputs": [
    {
     "data": {
      "text/plain": [
       "<seaborn.axisgrid.JointGrid at 0x1d13df11490>"
      ]
     },
     "execution_count": 49,
     "metadata": {},
     "output_type": "execute_result"
    },
    {
     "data": {
      "image/png": "[encoded data removed]",
      "text/plain": [
       "<Figure size 432x288 with 1 Axes>"
      ]
     },
     "metadata": {
      "needs_background": "light"
     },
     "output_type": "display_data"
    },
    {
     "data": {
      "image/png": "[encoded data removed]",
      "text/plain": [
       "<Figure size 432x432 with 3 Axes>"
      ]
     },
     "metadata": {
      "needs_background": "light"
     },
     "output_type": "display_data"
    }
   ],
   "source": [
    "#диаграмма рассеяния\n",
    "\n",
    "df.plot(x ='pop_count', y ='building_vol_mkd', kind ='scatter', alpha=0.6)\n",
    "\n",
    "sns.jointplot(x=\"pop_count\", y=\"building_vol_mkd\", data=df, kind=\"kde\", alpha = 0.6)"
   ]
  },
  {
   "cell_type": "code",
   "execution_count": 50,
   "id": "72fcd855",
   "metadata": {},
   "outputs": [
    {
     "data": {
      "text/plain": [
       "<seaborn.axisgrid.JointGrid at 0x1d13e0437c0>"
      ]
     },
     "execution_count": 50,
     "metadata": {},
     "output_type": "execute_result"
    },
    {
     "data": {
      "image/png": "[encoded data removed]",
      "text/plain": [
       "<Figure size 432x288 with 1 Axes>"
      ]
     },
     "metadata": {
      "needs_background": "light"
     },
     "output_type": "display_data"
    },
    {
     "data": {
      "image/png": "[encoded data removed]",
      "text/plain": [
       "<Figure size 432x432 with 3 Axes>"
      ]
     },
     "metadata": {
      "needs_background": "light"
     },
     "output_type": "display_data"
    }
   ],
   "source": [
    "#диаграмма рассеяния\n",
    "\n",
    "df.plot(x ='building_vol_cit', y ='building_vol_mkd', kind ='scatter', alpha=0.6)\n",
    "sns.jointplot(x=\"building_vol_cit\", y=\"building_vol_mkd\", data=df, kind=\"kde\", alpha = 0.6)"
   ]
  },
  {
   "cell_type": "markdown",
   "id": "d5707aeb",
   "metadata": {},
   "source": [
    "- Выявлена высокая (0,91) корреляций между численностью населения региона и объемами ввода жилья в МКД.\n",
    "- Также высокая (0,68) корреляция между объемами ввода жилья в МКД и объемами ввода жилья, построенного населением.\n",
    "- Интересное наблюдение: индекс роста зарплат имеет отрицательную коррекляцию с численностью населения региона (-0,27) и объемами ввода жилья, построенного населением (-0,32)."
   ]
  },
  {
   "cell_type": "markdown",
   "id": "ce23c3b3",
   "metadata": {},
   "source": [
    "**Распределение данных:**\n",
    "- всего записей в таблице 85 - данных может быть недостаточно для кластеризации\n",
    "- пропусков и дубликатов нет, сильные выбросы отсутствуют\n",
    "- все признаки являются числовыми"
   ]
  },
  {
   "cell_type": "markdown",
   "id": "84a4c59e",
   "metadata": {},
   "source": [
    "### Кластеризация регионов"
   ]
  },
  {
   "cell_type": "code",
   "execution_count": 51,
   "id": "7be901b4",
   "metadata": {},
   "outputs": [],
   "source": [
    "#разделим данные на признаки (матрица X) \n",
    "\n",
    "X = df.drop('region', axis=1)"
   ]
  },
  {
   "cell_type": "code",
   "execution_count": 52,
   "id": "37f39b43",
   "metadata": {},
   "outputs": [
    {
     "data": {
      "text/plain": [
       "array([[ 0.91389225, -0.34984331,  0.78589648,  0.65645833, -0.0991097 ,\n",
       "        -1.32164214,  0.17063431],\n",
       "       [-0.15149794, -0.30330453, -0.4931286 , -0.18614339, -0.2983163 ,\n",
       "        -0.03285153, -0.95841307],\n",
       "       [-0.05885531, -0.31079494,  0.02147783, -0.46701063, -0.20975257,\n",
       "        -0.28670422,  0.04035961]])"
      ]
     },
     "execution_count": 52,
     "metadata": {},
     "output_type": "execute_result"
    }
   ],
   "source": [
    "#стандартизируем данные \n",
    "\n",
    "sc = StandardScaler()\n",
    "X_sc = sc.fit_transform(X)\n",
    "X_sc[:3]"
   ]
  },
  {
   "cell_type": "code",
   "execution_count": 53,
   "id": "2d302c6a",
   "metadata": {},
   "outputs": [
    {
     "data": {
      "image/png": "[encoded data removed]",
      "text/plain": [
       "<Figure size 1080x720 with 1 Axes>"
      ]
     },
     "metadata": {
      "needs_background": "light"
     },
     "output_type": "display_data"
    }
   ],
   "source": [
    "#матрица расстояний и дендрограмма \n",
    "\n",
    "linked = linkage(X_sc, method = 'ward')\n",
    "linked \n",
    "\n",
    "plt.figure(figsize=(15, 10))  \n",
    "dendrogram(linked, orientation='top')\n",
    "plt.title('Дендрограмма регионов России за 2020')\n",
    "plt.show()"
   ]
  },
  {
   "cell_type": "code",
   "execution_count": 54,
   "id": "b9bb714e",
   "metadata": {},
   "outputs": [
    {
     "data": {
      "text/plain": [
       "array([2, 2, 2, 2, 2, 2, 2, 3, 2, 4, 3, 2, 2, 2, 2, 2, 2, 1, 3, 2, 3, 2,\n",
       "       3, 2, 2, 3, 2, 3, 1, 2, 0, 2, 1, 2, 3, 2, 2, 0, 0, 0, 0, 2, 3, 2,\n",
       "       2, 3, 3, 2, 2, 3, 2, 2, 2, 2, 3, 2, 3, 2, 3, 2, 2, 3, 2, 2, 3, 3,\n",
       "       3, 2, 3, 3, 2, 2, 2, 2, 3, 2, 3, 3, 2, 2, 3, 3, 2, 3, 3])"
      ]
     },
     "execution_count": 54,
     "metadata": {},
     "output_type": "execute_result"
    }
   ],
   "source": [
    "#обучим модель кластеризации на основании алгоритма K-Means и спрогнозируем кластеры клиентов.\n",
    "#число кластеров n=5\n",
    "\n",
    "km = KMeans(n_clusters = 5, random_state=0) # задаём число кластеров равное 5\n",
    "labels = km.fit_predict(X_sc) # применяем алгоритм к данным и формируем вектор кластеров\n",
    "labels"
   ]
  },
  {
   "cell_type": "code",
   "execution_count": 55,
   "id": "b4009623",
   "metadata": {},
   "outputs": [
    {
     "data": {
      "text/html": [
       "<div>\n",
       "<style scoped>\n",
       "    .dataframe tbody tr th:only-of-type {\n",
       "        vertical-align: middle;\n",
       "    }\n",
       "\n",
       "    .dataframe tbody tr th {\n",
       "        vertical-align: top;\n",
       "    }\n",
       "\n",
       "    .dataframe thead th {\n",
       "        text-align: right;\n",
       "    }\n",
       "</style>\n",
       "<table border=\"1\" class=\"dataframe\">\n",
       "  <thead>\n",
       "    <tr style=\"text-align: right;\">\n",
       "      <th></th>\n",
       "      <th>region</th>\n",
       "      <th>salary_percent_yty</th>\n",
       "      <th>building_vol_mkd</th>\n",
       "      <th>building_vol_cit</th>\n",
       "      <th>lifetime_exp</th>\n",
       "      <th>pop_count</th>\n",
       "      <th>poverty20</th>\n",
       "      <th>sal_growth_index</th>\n",
       "      <th>cluster_km</th>\n",
       "    </tr>\n",
       "  </thead>\n",
       "  <tbody>\n",
       "    <tr>\n",
       "      <th>2</th>\n",
       "      <td>Белгородская область</td>\n",
       "      <td>104.5</td>\n",
       "      <td>0.2136</td>\n",
       "      <td>0.9350</td>\n",
       "      <td>72.4</td>\n",
       "      <td>1541259</td>\n",
       "      <td>7.2</td>\n",
       "      <td>98.4</td>\n",
       "      <td>2</td>\n",
       "    </tr>\n",
       "    <tr>\n",
       "      <th>3</th>\n",
       "      <td>Брянская область</td>\n",
       "      <td>102.2</td>\n",
       "      <td>0.2515</td>\n",
       "      <td>0.1752</td>\n",
       "      <td>70.6</td>\n",
       "      <td>1182682</td>\n",
       "      <td>13.8</td>\n",
       "      <td>95.8</td>\n",
       "      <td>2</td>\n",
       "    </tr>\n",
       "    <tr>\n",
       "      <th>4</th>\n",
       "      <td>Владимирская область</td>\n",
       "      <td>102.4</td>\n",
       "      <td>0.2454</td>\n",
       "      <td>0.4809</td>\n",
       "      <td>70.0</td>\n",
       "      <td>1342099</td>\n",
       "      <td>12.5</td>\n",
       "      <td>98.1</td>\n",
       "      <td>2</td>\n",
       "    </tr>\n",
       "    <tr>\n",
       "      <th>5</th>\n",
       "      <td>Воронежская область</td>\n",
       "      <td>101.8</td>\n",
       "      <td>0.8812</td>\n",
       "      <td>0.8446</td>\n",
       "      <td>71.9</td>\n",
       "      <td>2305608</td>\n",
       "      <td>8.5</td>\n",
       "      <td>94.6</td>\n",
       "      <td>2</td>\n",
       "    </tr>\n",
       "    <tr>\n",
       "      <th>6</th>\n",
       "      <td>Ивановская область</td>\n",
       "      <td>100.6</td>\n",
       "      <td>0.1383</td>\n",
       "      <td>0.1949</td>\n",
       "      <td>70.7</td>\n",
       "      <td>987032</td>\n",
       "      <td>13.7</td>\n",
       "      <td>96.6</td>\n",
       "      <td>2</td>\n",
       "    </tr>\n",
       "  </tbody>\n",
       "</table>\n",
       "</div>"
      ],
      "text/plain": [
       "                 region  salary_percent_yty  building_vol_mkd  \\\n",
       "2  Белгородская область               104.5            0.2136   \n",
       "3      Брянская область               102.2            0.2515   \n",
       "4  Владимирская область               102.4            0.2454   \n",
       "5   Воронежская область               101.8            0.8812   \n",
       "6    Ивановская область               100.6            0.1383   \n",
       "\n",
       "   building_vol_cit  lifetime_exp  pop_count  poverty20  sal_growth_index  \\\n",
       "2            0.9350          72.4    1541259        7.2              98.4   \n",
       "3            0.1752          70.6    1182682       13.8              95.8   \n",
       "4            0.4809          70.0    1342099       12.5              98.1   \n",
       "5            0.8446          71.9    2305608        8.5              94.6   \n",
       "6            0.1949          70.7     987032       13.7              96.6   \n",
       "\n",
       "   cluster_km  \n",
       "2           2  \n",
       "3           2  \n",
       "4           2  \n",
       "5           2  \n",
       "6           2  "
      ]
     },
     "metadata": {},
     "output_type": "display_data"
    }
   ],
   "source": [
    "# добавим столбец с номерами кластеров в первоначальный датафрейм\n",
    "\n",
    "df['cluster_km'] = labels\n",
    "display(df.head())"
   ]
  },
  {
   "cell_type": "code",
   "execution_count": 56,
   "id": "5c99e1ef",
   "metadata": {},
   "outputs": [
    {
     "data": {
      "text/plain": [
       "cluster_km\n",
       "0     5\n",
       "1     3\n",
       "2    48\n",
       "3    28\n",
       "4     1\n",
       "Name: region, dtype: int64"
      ]
     },
     "execution_count": 56,
     "metadata": {},
     "output_type": "execute_result"
    }
   ],
   "source": [
    "#сгруппируем датасет по кластерам\n",
    "\n",
    "df.groupby(['cluster_km'])['region'].count()"
   ]
  },
  {
   "cell_type": "code",
   "execution_count": 57,
   "id": "a2704d37",
   "metadata": {},
   "outputs": [
    {
     "name": "stdout",
     "output_type": "stream",
     "text": [
      "Silhouette_score: 0.22\n"
     ]
    }
   ],
   "source": [
    "#посчитаем метрику силуэта для кластеризации нашего датасета\n",
    "\n",
    "print('Silhouette_score: {:.2f}'.format(silhouette_score(X_sc, labels)))"
   ]
  },
  {
   "cell_type": "code",
   "execution_count": 58,
   "id": "99f02bde",
   "metadata": {},
   "outputs": [
    {
     "data": {
      "text/html": [
       "<div>\n",
       "<style scoped>\n",
       "    .dataframe tbody tr th:only-of-type {\n",
       "        vertical-align: middle;\n",
       "    }\n",
       "\n",
       "    .dataframe tbody tr th {\n",
       "        vertical-align: top;\n",
       "    }\n",
       "\n",
       "    .dataframe thead th {\n",
       "        text-align: right;\n",
       "    }\n",
       "</style>\n",
       "<table border=\"1\" class=\"dataframe\">\n",
       "  <thead>\n",
       "    <tr style=\"text-align: right;\">\n",
       "      <th>cluster_km</th>\n",
       "      <th>0</th>\n",
       "      <th>1</th>\n",
       "      <th>2</th>\n",
       "      <th>3</th>\n",
       "      <th>4</th>\n",
       "    </tr>\n",
       "  </thead>\n",
       "  <tbody>\n",
       "    <tr>\n",
       "      <th>salary_percent_yty</th>\n",
       "      <td>1.061000e+02</td>\n",
       "      <td>1.013667e+02</td>\n",
       "      <td>1.014333e+02</td>\n",
       "      <td>103.996429</td>\n",
       "      <td>9.950000e+01</td>\n",
       "    </tr>\n",
       "    <tr>\n",
       "      <th>building_vol_mkd</th>\n",
       "      <td>1.468400e-01</td>\n",
       "      <td>3.524833e+00</td>\n",
       "      <td>4.482146e-01</td>\n",
       "      <td>0.178407</td>\n",
       "      <td>4.554400e+00</td>\n",
       "    </tr>\n",
       "    <tr>\n",
       "      <th>building_vol_cit</th>\n",
       "      <td>2.263000e-01</td>\n",
       "      <td>9.662667e-01</td>\n",
       "      <td>5.277958e-01</td>\n",
       "      <td>0.212204</td>\n",
       "      <td>4.485800e+00</td>\n",
       "    </tr>\n",
       "    <tr>\n",
       "      <th>lifetime_exp</th>\n",
       "      <td>7.594000e+01</td>\n",
       "      <td>7.413333e+01</td>\n",
       "      <td>7.098125e+01</td>\n",
       "      <td>69.782143</td>\n",
       "      <td>7.170000e+01</td>\n",
       "    </tr>\n",
       "    <tr>\n",
       "      <th>pop_count</th>\n",
       "      <td>1.050680e+06</td>\n",
       "      <td>7.907780e+06</td>\n",
       "      <td>1.729769e+06</td>\n",
       "      <td>944888.071429</td>\n",
       "      <td>7.708499e+06</td>\n",
       "    </tr>\n",
       "    <tr>\n",
       "      <th>poverty20</th>\n",
       "      <td>2.306000e+01</td>\n",
       "      <td>7.600000e+00</td>\n",
       "      <td>1.238333e+01</td>\n",
       "      <td>16.000000</td>\n",
       "      <td>6.800000e+00</td>\n",
       "    </tr>\n",
       "    <tr>\n",
       "      <th>sal_growth_index</th>\n",
       "      <td>9.868000e+01</td>\n",
       "      <td>9.850000e+01</td>\n",
       "      <td>9.688750e+01</td>\n",
       "      <td>99.846429</td>\n",
       "      <td>9.540000e+01</td>\n",
       "    </tr>\n",
       "  </tbody>\n",
       "</table>\n",
       "</div>"
      ],
      "text/plain": [
       "cluster_km                     0             1             2              3  \\\n",
       "salary_percent_yty  1.061000e+02  1.013667e+02  1.014333e+02     103.996429   \n",
       "building_vol_mkd    1.468400e-01  3.524833e+00  4.482146e-01       0.178407   \n",
       "building_vol_cit    2.263000e-01  9.662667e-01  5.277958e-01       0.212204   \n",
       "lifetime_exp        7.594000e+01  7.413333e+01  7.098125e+01      69.782143   \n",
       "pop_count           1.050680e+06  7.907780e+06  1.729769e+06  944888.071429   \n",
       "poverty20           2.306000e+01  7.600000e+00  1.238333e+01      16.000000   \n",
       "sal_growth_index    9.868000e+01  9.850000e+01  9.688750e+01      99.846429   \n",
       "\n",
       "cluster_km                     4  \n",
       "salary_percent_yty  9.950000e+01  \n",
       "building_vol_mkd    4.554400e+00  \n",
       "building_vol_cit    4.485800e+00  \n",
       "lifetime_exp        7.170000e+01  \n",
       "pop_count           7.708499e+06  \n",
       "poverty20           6.800000e+00  \n",
       "sal_growth_index    9.540000e+01  "
      ]
     },
     "execution_count": 58,
     "metadata": {},
     "output_type": "execute_result"
    }
   ],
   "source": [
    "#изучим средние значения признаков для кластеров\n",
    "\n",
    "df.drop('region', axis=1).groupby('cluster_km').mean().T"
   ]
  },
  {
   "cell_type": "code",
   "execution_count": 59,
   "id": "80c9255a",
   "metadata": {},
   "outputs": [
    {
     "data": {
      "image/png": "[encoded data removed]",
      "text/plain": [
       "<Figure size 1224x720 with 9 Axes>"
      ]
     },
     "metadata": {
      "needs_background": "light"
     },
     "output_type": "display_data"
    },
    {
     "data": {
      "image/png": "[encoded data removed]",
      "text/plain": [
       "<Figure size 1224x720 with 9 Axes>"
      ]
     },
     "metadata": {
      "needs_background": "light"
     },
     "output_type": "display_data"
    },
    {
     "data": {
      "image/png": "[encoded data removed]",
      "text/plain": [
       "<Figure size 1224x720 with 9 Axes>"
      ]
     },
     "metadata": {
      "needs_background": "light"
     },
     "output_type": "display_data"
    },
    {
     "data": {
      "image/png": "[encoded data removed]",
      "text/plain": [
       "<Figure size 1224x720 with 9 Axes>"
      ]
     },
     "metadata": {
      "needs_background": "light"
     },
     "output_type": "display_data"
    },
    {
     "data": {
      "image/png": "[encoded data removed]",
      "text/plain": [
       "<Figure size 1224x720 with 9 Axes>"
      ]
     },
     "metadata": {
      "needs_background": "light"
     },
     "output_type": "display_data"
    }
   ],
   "source": [
    "#построим распределение признаков для кластеров\n",
    "\n",
    "for value in [0, 1, 2, 3, 4]:\n",
    "    df[df['cluster_km'] == value].hist(figsize=(17,10))\n",
    "    plt.suptitle('\\nРаспределение признаков для кластера {}'.format(value), fontsize = 15)\n",
    "    plt.show()"
   ]
  },
  {
   "cell_type": "markdown",
   "id": "173d593e",
   "metadata": {},
   "source": [
    "**Характеристики кластера 0:**\n",
    "- разброс роста зарплат год к году от 105 до 107%\n",
    "- темп строительства жилья МКД от 0 до 0.3\n",
    "- тем строительства жилья населением от 0 до 0.5\n",
    "- ожидаемая продолжительность жизни - 74-76 лет\n",
    "- население региона - от 0.5 до 3 млн\n",
    "- уровень бедности высокий, более 22%\n",
    "- индекс роста зарплат менее 100%\n",
    "\n",
    "**Характеристики кластера 1:**\n",
    "- разброс роста зарплат год к году от 100 до 104%\n",
    "- темп строительства жилья МКД от 3 до 4.5\n",
    "- тем строительства жилья населением от 0 до 2\n",
    "- ожидаемая продолжительность жизни - 72-76 лет\n",
    "- население региона - от 5 до 12 млн\n",
    "- уровень бедности от 6% до 11%\n",
    "- индекс роста зарплат от 97% до 100%\n",
    "\n",
    "**Характеристики кластера 2:**\n",
    "- разброс роста зарплат год к году от 100 до 110%\n",
    "- темп строительства жилья МКД от 0 до 0.7\n",
    "- тем строительства жилья населением от 0 до 0.7\n",
    "- ожидаемая продолжительность жизни - 72 года\n",
    "- население региона - до 4 млн\n",
    "- уровень бедности от 5% до 30%\n",
    "- индекс роста зарплат в основном, менее 100%\n",
    "\n",
    "**Характеристики кластера 3:**\n",
    "- разброс роста зарплат год к году от 100 до 104%\n",
    "- темп строительства жилья МКД от 0 до 1.4\n",
    "- тем строительства жилья населением от 0 до 1.5\n",
    "- ожидаемая продолжительность жизни - в основном, в районе 71 года\n",
    "- население региона - от 1 до 2.5 млн\n",
    "- уровень бедности от 4% до 18%\n",
    "- индекс роста зарплат от 92% до 100%\n",
    "\n",
    "**Характеристики кластера 4:**\n",
    "- разброс роста зарплат год к году 99.5%\n",
    "- темп строительства жилья МКД 4.6\n",
    "- тем строительства жилья населением 4.5\n",
    "- ожидаемая продолжительность жизни - в основном, в районе 71 года\n",
    "- население региона - 9 млн\n",
    "- уровень бедности 6.8%\n",
    "- индекс роста зарплат от 95.4%"
   ]
  },
  {
   "cell_type": "code",
   "execution_count": 60,
   "id": "65cc6314",
   "metadata": {},
   "outputs": [
    {
     "data": {
      "text/plain": [
       "['Республика Калмыкия',\n",
       " 'Республика Дагестан',\n",
       " 'Республика Ингушетия',\n",
       " 'Кабардино-Балкарская Республика',\n",
       " 'Карачаево-Черкесская Республика']"
      ]
     },
     "execution_count": 60,
     "metadata": {},
     "output_type": "execute_result"
    }
   ],
   "source": [
    "#список регионов в кластере 0\n",
    "\n",
    "cluster0_regions = df[df['cluster_km'] == 0]['region'].to_list()\n",
    "cluster0_regions"
   ]
  },
  {
   "cell_type": "code",
   "execution_count": 61,
   "id": "9af031b1",
   "metadata": {},
   "outputs": [
    {
     "data": {
      "text/plain": [
       "['г. Москва', 'г.Санкт-Петербург', 'Краснодарский край']"
      ]
     },
     "execution_count": 61,
     "metadata": {},
     "output_type": "execute_result"
    }
   ],
   "source": [
    "#список регионов в кластере 1\n",
    "\n",
    "cluster1_regions = df[df['cluster_km'] == 1]['region'].to_list()\n",
    "cluster1_regions"
   ]
  },
  {
   "cell_type": "code",
   "execution_count": 62,
   "id": "ebe53e97",
   "metadata": {},
   "outputs": [
    {
     "data": {
      "text/plain": [
       "['Белгородская область',\n",
       " 'Брянская область',\n",
       " 'Владимирская область',\n",
       " 'Воронежская область',\n",
       " 'Ивановская область',\n",
       " 'Калужская область',\n",
       " 'Костромская область',\n",
       " 'Липецкая область',\n",
       " 'Рязанская область',\n",
       " 'Смоленская область',\n",
       " 'Тамбовская область',\n",
       " 'Тверская область',\n",
       " 'Тульская область',\n",
       " 'Ярославская область',\n",
       " 'Республика Коми',\n",
       " 'Архангельская область (кроме Ненецкого автономного округа)',\n",
       " 'Калининградская область',\n",
       " 'Ленинградская область',\n",
       " 'Новгородская область',\n",
       " 'Республика Адыгея',\n",
       " 'Республика Крым',\n",
       " 'Астраханская область',\n",
       " 'Ростовская область',\n",
       " 'г.Севастополь',\n",
       " 'Республика Северная Осетия - Алания',\n",
       " 'Ставропольский край',\n",
       " 'Республика Башкортостан',\n",
       " 'Республика Татарстан',\n",
       " 'Удмуртская Республика',\n",
       " 'Пермский край',\n",
       " 'Кировская область',\n",
       " 'Hижегородская область',\n",
       " 'Оренбургская область',\n",
       " 'Самарская область',\n",
       " 'Ульяновская область',\n",
       " 'Свердловская область',\n",
       " 'Ханты-Мансийский авт.округ - Югра',\n",
       " 'Тюменская область (кроме Ханты-Мансийского автономного округа - Югры и Ямало-Ненецкого автономного округа)',\n",
       " 'Челябинская область',\n",
       " 'Алтайский край',\n",
       " 'Кемеровская область - Кузбасс',\n",
       " 'Новосибирская область',\n",
       " 'Омская область',\n",
       " 'Томская область',\n",
       " 'Республика Саха (Якутия)',\n",
       " 'Приморский край',\n",
       " 'Хабаровский край',\n",
       " 'Сахалинская область']"
      ]
     },
     "execution_count": 62,
     "metadata": {},
     "output_type": "execute_result"
    }
   ],
   "source": [
    "#список регионов в кластере 2\n",
    "\n",
    "cluster2_regions = df[df['cluster_km'] == 2]['region'].to_list()\n",
    "cluster2_regions"
   ]
  },
  {
   "cell_type": "code",
   "execution_count": 63,
   "id": "eb4a0d9b",
   "metadata": {},
   "outputs": [
    {
     "data": {
      "text/plain": [
       "['Курская область',\n",
       " 'Орловская область',\n",
       " 'Республика Карелия',\n",
       " 'Hенецкий авт.округ',\n",
       " 'Вологодская область',\n",
       " 'Мурманская область',\n",
       " 'Псковская область',\n",
       " 'Волгоградская область',\n",
       " 'Чеченская Республика',\n",
       " 'Республика Марий Эл',\n",
       " 'Республика Мордовия',\n",
       " 'Чувашская Республика',\n",
       " 'Пензенская область',\n",
       " 'Саратовская область',\n",
       " 'Курганская область',\n",
       " 'Ямало-Hенецкий авт.округ',\n",
       " 'Республика Алтай',\n",
       " 'Республика Тыва',\n",
       " 'Республика Хакасия',\n",
       " 'Красноярский край',\n",
       " 'Иркутская область',\n",
       " 'Республика Бурятия',\n",
       " 'Забайкальский край',\n",
       " 'Камчатский край',\n",
       " 'Амурская область',\n",
       " 'Магаданская область',\n",
       " 'Еврейская авт.область',\n",
       " 'Чукотский авт.округ']"
      ]
     },
     "execution_count": 63,
     "metadata": {},
     "output_type": "execute_result"
    }
   ],
   "source": [
    "#список регионов в кластере 3\n",
    "\n",
    "cluster3_regions = df[df['cluster_km'] == 3]['region'].to_list()\n",
    "cluster3_regions"
   ]
  },
  {
   "cell_type": "code",
   "execution_count": 64,
   "id": "72eb5398",
   "metadata": {},
   "outputs": [
    {
     "data": {
      "text/plain": [
       "['Московская область']"
      ]
     },
     "execution_count": 64,
     "metadata": {},
     "output_type": "execute_result"
    }
   ],
   "source": [
    "#список регионов в кластере 4\n",
    "\n",
    "cluster4_regions = df[df['cluster_km'] == 4]['region'].to_list()\n",
    "cluster4_regions"
   ]
  },
  {
   "cell_type": "markdown",
   "id": "ca806516",
   "metadata": {},
   "source": [
    "## Список территорий и алгоритм увольнения губернаторов и критерии и правила увольнений"
   ]
  },
  {
   "cell_type": "markdown",
   "id": "32ac579f",
   "metadata": {},
   "source": [
    "**Предлагаемая методика оценки эффективности управления регионом**\n",
    "- Выберем 4 ключевые параметра оценки эффективности управления регионом\n",
    "- По каждому критерию выберем регионы, находящиеся во второй половине списка (ниже медианы)\n",
    "- Найдем пересечения всех 4 списков, таким образом обнаружим регионы, отстающие по всем ключевым показателям эффективности\n",
    "\n",
    "**Критерии и правила увольнения губернаторов**\n",
    "- Губернатор находится в зоне риска в том случае, если регион под его управлением находится в списке пересечений списков неэффективных регионов\n",
    "- Дать задание губернатору объяснить низкие показатели управления своим регионом (возможно, регион участвует в реализации крупного долгосрочного нацпроекта, и результаты управления регионом в дальнейшем будут улучшаться, но на более длительном горизонте планирования), попросить предоставить план реализации долгосрочных инвестпроектов, имеющих влияние на эффективность управления регионом\n",
    "- Уточнить прочие показатели эффективност управления регионом, которые делают управление им уникальным (анклав, особые климатические или логистические условия)\n",
    "- В случае, если регион попал в список пересечений списков неэффективных регионов, крупные нацпроекты не запланированы к реализации в подотчетном регионе, а прочие показатели эффективности управления не имеют существенной значимости, уволить губернатора."
   ]
  },
  {
   "cell_type": "code",
   "execution_count": 65,
   "id": "6c9bb265",
   "metadata": {},
   "outputs": [],
   "source": [
    "#предварительно сложим значения ввода жилья и далее рассмотрим суммарное значение\n",
    "\n",
    "df['building_vol'] = df['building_vol_mkd'] + df['building_vol_cit']\n",
    "\n",
    "#выберем регионы, которые по каждому из критериев показывает результаты во второй половине списка, \n",
    "#при этому сосредоточимся на индексе роста реальных зарплат, уровне бедности, ожидаемой продолжительности жизни, \n",
    "#а так же на суммарных объемах ввода жилья \n",
    "\n",
    "low_building_vol = df[df['building_vol'] < df.building_vol.quantile(0.5)]['region'].to_list()\n",
    "low_lifetime_exp = df[df['lifetime_exp'] < df.lifetime_exp.quantile(0.5)]['region'].to_list()\n",
    "high_poverty20 = df[df['poverty20'] > df.poverty20.quantile(0.5)]['region'].to_list()\n",
    "low_sal_growth_index = df[df['sal_growth_index'] < df.sal_growth_index.quantile(0.5)]['region'].to_list()"
   ]
  },
  {
   "cell_type": "code",
   "execution_count": 66,
   "id": "05a79752",
   "metadata": {},
   "outputs": [
    {
     "data": {
      "text/plain": [
       "['Омская область',\n",
       " 'Смоленская область',\n",
       " 'Брянская область',\n",
       " 'Республика Коми',\n",
       " 'Новгородская область',\n",
       " 'Республика Бурятия',\n",
       " 'Курганская область']"
      ]
     },
     "execution_count": 66,
     "metadata": {},
     "output_type": "execute_result"
    }
   ],
   "source": [
    "#найдем регионы, которые попали в каждый из непочетных списков отстающих\n",
    "\n",
    "d = [low_building_vol, high_poverty20, low_lifetime_exp, low_sal_growth_index]  \n",
    "list(reduce(set.intersection, [set(item) for item in d ]))"
   ]
  },
  {
   "cell_type": "markdown",
   "id": "9c816965",
   "metadata": {},
   "source": [
    "**Выше представлен список неэффективно управляемых регионов, губернаторам которых следует подготовить дополнительные данные согласно методологии, представленной ранее**"
   ]
  },
  {
   "cell_type": "markdown",
   "id": "a5b3de95",
   "metadata": {},
   "source": [
    "## Вывод"
   ]
  },
  {
   "cell_type": "markdown",
   "id": "a37ef223",
   "metadata": {},
   "source": [
    "**Качество данных:**\n",
    "- данные предоставлены в полном объеме, без пропусков и дубликатов\n",
    "- есть замечания к формату записи названий регионов - он он отличается от документа к документу\n",
    "\n",
    "**Исследовательский анализ данных:**\n",
    "- данные распределены неравномерно, стандартные отклонения сильно расходятся со средними значениями\n",
    "- реальная среднемесячная начисленная заработная плата работников имеет распределение больше других похоже на нормальное с наиболее часто встречаемым значением в 102,5%, при этом, как и на всех дальнейших графиках, есть небольшой всплеск ближе к краю правой ветки - видимо, за счет наиболее успешных регионов\n",
    "- темпы строительства МКД: заметен сильный перекос графика влево, в большинстве регионов темп строительства МКД низкий\n",
    "- темпы строительства населением: заметен сильный перекос графика влево, в большинстве регионов темп строительства населением низкий\n",
    "- средняя продолжительность жизни - чуть более 70 лет в среднем по РФ\n",
    "- большинство регионов имеют численность населения около 2 млн человек\n",
    "- в целом, подавляющее число регионов - малонаселенные\n",
    "- в большинстве регионов уровень бедности находится в районе 13%\n",
    "- тревожно то, что есть регионы с уровнем бедности более 30%\n",
    "- в среднем, темп роста реального денежного дохода находится на уровне 97%, что предполагает падение реального уровня доходов населения\n",
    "- регионов с уровнем более 100% (рост) меньшинство\n",
    "\n",
    "**Корреляция ризнаков:**\n",
    "- выявлена высокая (0.91) корреляций между численностью населения региона и объемами ввода жилья в МКД\n",
    "- также высокая (0.68) корреляция между объемами ввода жилья в МКД и объемами ввода жилья, построенного населением\n",
    "- индекс роста зарплат имеет отрицательную коррекляцию с численностью населения региона (-0.27) и объемами ввода жилья, построенного населением (-0.32)"
   ]
  },
  {
   "cell_type": "markdown",
   "id": "146c3172",
   "metadata": {},
   "source": [
    "**Кластерный анализ:**\n",
    "Каждый регион России в самом общем случае можно рассматривать как сложную систему управления, подчиняющуюся действиям как внешних условий, так и внутренних факторов развития. Несмотря на особенности регионов, есть и много схожих процессов, свойственных ряду регионов. Одним из методов, позволяющих провести исследование процессов регионального развития, является кластерный анализ. Применение методов кластерного анализа позволяет на основе статистических данных по различным показателям социально-экономического развития регионов объединить отдельные регионы в целевые кластеры. Анализ таких кластеров позволяет выявлять и эффективно решать типичные проблемы регионального развития, придать ускорение экономическим процессам, сконцентрировать ресурсы на ключевых направлениях.\n",
    "\n",
    "**Целью исследования** является выделение групп регионов со схожими социально-экономическими показателями.\n",
    "\n",
    "Для решения задач кластеризации с небольшим числом факторных признаков использована **иерархическая кластеризация**.\n",
    "\n",
    "**Метод:** использован метод K-Means (метод K-средних).\n",
    "\n",
    "В ходе кластеризации массив данных разбили на 5 кластеров. Кластеризация прошла неточно (Silhouette_score: 0.22): есть перекрывающиеся кластеры. \n",
    "\n",
    "**Число кластеров:** в ходе анализа дендрограммы принято решение разбить регионы на 5 кластеров.\n",
    "\n",
    "**Характеристики кластера 0:**\n",
    "- регионы: Республика Калмыкия, Республика Дагестан, Республика Ингушетия, Кабардино-Балкарская Республика, Карачаево-Черкесская Республика\n",
    "- разброс роста зарплат год к году от 105 до 107%\n",
    "- темп строительства жилья МКД от 0 до 0.3\n",
    "- тем строительства жилья населением от 0 до 0.5\n",
    "- ожидаемая продолжительность жизни - 74-76 лет\n",
    "- население региона - от 0.5 до 3 млн\n",
    "- уровень бедности высокий, более 22%\n",
    "- индекс роста зарплат менее 100%\n",
    "\n",
    "*Вывод по кластеру 0: в целом, депрессивные и малочисленные национальные республики, требующие повышенного внимания для обеспечения устойчивого роста* \n",
    "\n",
    "**Характеристики кластера 1:**\n",
    "- регионы: г. Москва, г.Санкт-Петербург, Краснодарский край\n",
    "- разброс роста зарплат год к году от 100 до 104%\n",
    "- темп строительства жилья МКД от 3 до 4.5\n",
    "- тем строительства жилья населением от 0 до 2\n",
    "- ожидаемая продолжительность жизни - 72-76 лет\n",
    "- население региона - от 5 до 12 млн\n",
    "- уровень бедности от 6% до 11%\n",
    "- индекс роста зарплат от 97% до 100%\n",
    "\n",
    "*Вывод по кластеру 1: густонаселенные регионы с низким относительно других регионов уровнем бедности* \n",
    "\n",
    "**Характеристики кластера 2:**\n",
    "- регионы: Белгородская область, Брянская область, Владимирская область, Воронежская область, Ивановская область, Калужская область, Костромская область, Липецкая область, Рязанская область, Смоленская область, Тамбовская область, Тверская область, Тульская область, Ярославская область, Республика Коми, Архангельская область (кроме Ненецкого автономного округа), Калининградская область, Ленинградская область, Новгородская область, Республика Адыгея, Республика Крым, Астраханская область, Ростовская область, г.Севастополь, Республика Северная Осетия - Алания, Ставропольский край, Республика Башкортостан, Республика Татарстан, Удмуртская Республика, Пермский край, Кировская область, Hижегородская область, Оренбургская область, Самарская область, Ульяновская область, Свердловская область, Ханты-Мансийский авт.округ - Югра, Тюменская область (кроме Ханты-Мансийского автономного округа - Югры и Ямало-Ненецкого автономного округа), Челябинская область, Алтайский край, Кемеровская область - Кузбасс, Новосибирская область, Омская область, Томская область, Республика Саха (Якутия), Приморский край, Хабаровский край, Сахалинская область\n",
    "- разброс роста зарплат год к году от 100 до 110%\n",
    "- темп строительства жилья МКД от 0 до 0.7\n",
    "- тем строительства жилья населением от 0 до 0.7\n",
    "- ожидаемая продолжительность жизни - 72 года\n",
    "- население региона - до 4 млн\n",
    "- уровень бедности от 5% до 30%\n",
    "- индекс роста зарплат в основном, менее 100%\n",
    "\n",
    "*Вывод по кластеру 2: разношерстная группа регионов, объединенных по формальному признаку* \n",
    "\n",
    "**Характеристики кластера 3:**\n",
    "- регионы: Курская область, Орловская область, Республика Карелия, Hенецкий авт.округ, Вологодская область, Мурманская область, Псковская область, Волгоградская область, Чеченская Республика, Республика Марий Эл, Республика Мордовия, Чувашская Республика, Пензенская область, Саратовская область, Курганская область, Ямало-Hенецкий авт.округ, Республика Алтай, Республика Тыва, Республика Хакасия, Красноярский край, Иркутская область, Республика Бурятия, Забайкальский край, Камчатский край, Амурская область, Магаданская область, Еврейская авт.область, Чукотский авт.округ\n",
    "- разброс роста зарплат год к году от 100 до 104%\n",
    "- темп строительства жилья МКД от 0 до 1.4\n",
    "- тем строительства жилья населением от 0 до 1.5\n",
    "- ожидаемая продолжительность жизни - в основном, в районе 71 года\n",
    "- население региона - от 1 до 2.5 млн\n",
    "- уровень бедности от 4% до 18%\n",
    "- индекс роста зарплат от 92% до 100%\n",
    "\n",
    "*Вывод по кластеру 3: разношерстная группа регионов, сопоставимая по успешности с кластером 2* \n",
    "\n",
    "**Характеристики кластера 4:**\n",
    "- регион: Москвоская область\n",
    "- разброс роста зарплат год к году 99.5%\n",
    "- темп строительства жилья МКД 4.6\n",
    "- тем строительства жилья населением 4.5\n",
    "- ожидаемая продолжительность жизни - в основном, в районе 71 года\n",
    "- население региона - 9 млн\n",
    "- уровень бедности 6.8%\n",
    "- индекс роста зарплат от 95.4%\n",
    "\n",
    "*Вывод по кластеру 4: кластер представлен единственным регионом, находящимся по уровню эффективности между успешным кластером 1 и стагнирующими 2 и 3. Кластер отличает высокое число населения и очень высокие темпы строительства* "
   ]
  },
  {
   "cell_type": "markdown",
   "id": "4b393a5a",
   "metadata": {},
   "source": [
    "**Алгоритм увольнения губернаторов и критерии и правила увольнений**\n",
    "- предложен алгоритм поиска отстающих регионов на основании укрупненных метрик и списка пересечения списков отстающих регионов (назовем его СПСОР)\n",
    "- выявлен список отстающих одновременно по всем направлениям регионов: Брянская область, Смоленская область, Новгородская область, Республика Коми, Республика Бурятия, Курганская область, Омская область."
   ]
  }
 ],
 "metadata": {
  "kernelspec": {
   "display_name": "Python 3 (ipykernel)",
   "language": "python",
   "name": "python3"
  },
  "language_info": {
   "codemirror_mode": {
    "name": "ipython",
    "version": 3
   },
   "file_extension": ".py",
   "mimetype": "text/x-python",
   "name": "python",
   "nbconvert_exporter": "python",
   "pygments_lexer": "ipython3",
   "version": "3.9.7"
  }
 },
 "nbformat": 4,
 "nbformat_minor": 5
}
